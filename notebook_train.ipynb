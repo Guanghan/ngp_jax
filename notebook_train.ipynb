{
 "cells": [
  {
   "cell_type": "markdown",
   "metadata": {},
   "source": [
    "## Import packages"
   ]
  },
  {
   "cell_type": "code",
   "execution_count": 1,
   "metadata": {},
   "outputs": [],
   "source": [
    "from opt import get_opts\n",
    "from config import Config\n",
    "from models import BasicNeRF, VanillaNeRF, HashNeRF\n",
    "from model_utils import generate_rays, perform_volume_rendering\n",
    "from render import pose_spherical\n",
    "\n",
    "import gin\n",
    "from pickletools import optimize\n",
    "\n",
    "import numpy as np\n",
    "import jax\n",
    "from jax import numpy as jnp\n",
    "from jax import jit, pmap, value_and_grad, lax, \\\n",
    "                local_device_count, \\\n",
    "                device_put_replicated, local_devices\n",
    "\n",
    "from flax.jax_utils import unreplicate\n",
    "from flax.training import train_state, common_utils\n",
    "import optax\n",
    "\n",
    "from tqdm import tqdm\n",
    "import matplotlib.pyplot as plt\n",
    "import imageio"
   ]
  },
  {
   "cell_type": "markdown",
   "metadata": {},
   "source": [
    "## Run on TPU if using Colab (*optional*)"
   ]
  },
  {
   "cell_type": "code",
   "execution_count": 2,
   "metadata": {},
   "outputs": [
    {
     "name": "stdout",
     "output_type": "stream",
     "text": [
      "No TPU detected.\n",
      "DEVICE_COUNT:  1\n",
      "8 cores of TPU ( Local devices in Jax ):\n",
      "TFRT_CPU_0\n"
     ]
    }
   ],
   "source": [
    "import jax\n",
    "import os\n",
    "\n",
    "if 'TPU_NAME' in os.environ:\n",
    "    import requests\n",
    "    if 'TPU_DRIVER_MODE' not in globals():\n",
    "        url = 'http:' + os.environ['TPU_NAME'].split(':')[1] + ':8475/requestversion/tpu_driver_nightly'\n",
    "        resp = requests.post(url)\n",
    "        TPU_DRIVER_MODE = 1\n",
    "    from jax.config import config\n",
    "    config.FLAGS.jax_xla_backend = \"tpu_driver\"\n",
    "    config.FLAGS.jax_backend_target = os.environ['TPU_NAME']\n",
    "    print(\"TPU DETECTED!\")\n",
    "    print('Registered TPU:', config.FLAGS.jax_backend_target)\n",
    "\n",
    "\n",
    "# Detect if Google Colab Notebook has access to TPUs or not\n",
    "elif \"COLAB_TPU_ADDR\" in os.environ:\n",
    "    import jax.tools.colab_tpu\n",
    "    jax.tools.colab_tpu.setup_tpu()\n",
    "\n",
    "\n",
    "else:\n",
    "    print('No TPU detected.')\n",
    "\n",
    "\n",
    "DEVICE_COUNT = len(jax.local_devices())\n",
    "TPU = DEVICE_COUNT>=1\n",
    "print(\"DEVICE_COUNT: \", DEVICE_COUNT)\n",
    "\n",
    "if TPU:\n",
    "    print(\"8 cores of TPU ( Local devices in Jax ):\")\n",
    "    print('\\n'.join(map(str,jax.local_devices())))\n"
   ]
  },
  {
   "cell_type": "markdown",
   "metadata": {},
   "source": [
    "## Load configurations and data"
   ]
  },
  {
   "cell_type": "code",
   "execution_count": 3,
   "metadata": {},
   "outputs": [
    {
     "name": "stdout",
     "output_type": "stream",
     "text": [
      "Config(near_bound=2.0, far_bound=6.0, num_sample_points=256, epsilon=10000000000.0, apply_positional_encoding=True, positional_encoding_dims=6, positional_encoding_dims_xyz=10, positional_encoding_dims_dir=4, positional_encoding_min_degree=1, positional_encoding_max_degree=10, bbox3D=[[-2.7, -2.7, -2.7], [2.2, 2.2, 2.2]], num_dense_layers=3, dense_layer_width=64, num_dense_layers_dir=4, dense_layer_width_dir=64, skip_layer=0, batch_size=64, lr=0.0005, train_epochs=1000, plot_interval=100)\n"
     ]
    }
   ],
   "source": [
    "#gin_config_path = \"configs/default.gin\"\n",
    "gin_config_path = \"configs/hashnerf.gin\"\n",
    "gin.parse_config_file(gin_config_path)\n",
    "\n",
    "config = Config()\n",
    "print(config)\n",
    "\n",
    "# load data\n",
    "data = np.load(\"tiny_nerf_data.npz\")\n",
    "images = data[\"images\"]\n",
    "poses = data[\"poses\"]\n",
    "focal = float(data[\"focal\"])\n",
    "\n",
    "# split data into train and val\n",
    "_, img_ht, img_wid, _ = images.shape\n",
    "train_images, train_poses = images[:100], poses[:100]\n",
    "val_image, val_pose = images[101], poses[101]"
   ]
  },
  {
   "cell_type": "markdown",
   "metadata": {},
   "source": [
    "## Define routines for Training"
   ]
  },
  {
   "cell_type": "code",
   "execution_count": 4,
   "metadata": {},
   "outputs": [],
   "source": [
    "from hash_encoding import HashEmbedder\n",
    "from models import VanillaNeRF\n",
    "\n",
    "\n",
    "def init_model(key, input_pts_shape):\n",
    "    # create models\n",
    "    #model = BasicNeRF()\n",
    "    #model = VanillaNeRF()\n",
    "    model = HashNeRF()\n",
    "\n",
    "    # init model\n",
    "    init_params = jit(model.init)({\"params\":key}, jnp.ones(input_pts_shape))\n",
    "\n",
    "    return model, init_params[\"params\"]\n",
    "\n",
    "\n",
    "def train_step(state, batch, rng):\n",
    "    \"\"\"\n",
    "    Training Step:\n",
    "    state is comb of model state and optimizer state\n",
    "    \"\"\"\n",
    "    inputs, targets = batch\n",
    "\n",
    "    # compute loss in a stateless manner to save memory\n",
    "    def loss_fn(params):\n",
    "        ray_origins, ray_directions = inputs\n",
    "        model_fn = lambda x: state.apply_fn({\"params\": params}, x)\n",
    "        pred_rgbs, *_ = perform_volume_rendering(model_fn, ray_origins, ray_directions, rng)\n",
    "        return jnp.mean( (pred_rgbs - targets)**2 )\n",
    "\n",
    "    # get loss value and gradients    \n",
    "    train_loss, gradients = value_and_grad(loss_fn)(state.params)\n",
    "\n",
    "    # get averaged train loss\n",
    "    train_loss = jnp.mean(train_loss)\n",
    "\n",
    "    # compute all-reduce mean on gradients over the pmapped axis\n",
    "    gradients = lax.pmean(gradients, axis_name=\"batch\")\n",
    "\n",
    "    # update model params & optimizer state\n",
    "    new_state = state.apply_gradients(grads=gradients)\n",
    "\n",
    "    # compute PSNR\n",
    "    train_psnr = -10.0 * jnp.log(train_loss) / jnp.log(10.0)\n",
    "    return train_loss, train_psnr, new_state"
   ]
  },
  {
   "cell_type": "markdown",
   "metadata": {},
   "source": [
    "## Generate rays and init model"
   ]
  },
  {
   "cell_type": "code",
   "execution_count": 5,
   "metadata": {},
   "outputs": [
    {
     "name": "stdout",
     "output_type": "stream",
     "text": [
      "Using 1 devices to compute\n"
     ]
    },
    {
     "ename": "KeyboardInterrupt",
     "evalue": "",
     "output_type": "error",
     "traceback": [
      "\u001b[0;31m---------------------------------------------------------------------------\u001b[0m",
      "\u001b[0;31mKeyboardInterrupt\u001b[0m                         Traceback (most recent call last)",
      "\u001b[1;32m/Users/ngh/Desktop/dev/ngp_jax/notebook_train.ipynb Cell 10\u001b[0m in \u001b[0;36m<cell line: 13>\u001b[0;34m()\u001b[0m\n\u001b[1;32m     <a href='vscode-notebook-cell:/Users/ngh/Desktop/dev/ngp_jax/notebook_train.ipynb#X12sZmlsZQ%3D%3D?line=9'>10</a>\u001b[0m key, rng \u001b[39m=\u001b[39m jax\u001b[39m.\u001b[39mrandom\u001b[39m.\u001b[39msplit(jax\u001b[39m.\u001b[39mrandom\u001b[39m.\u001b[39mPRNGKey(\u001b[39m0\u001b[39m))\n\u001b[1;32m     <a href='vscode-notebook-cell:/Users/ngh/Desktop/dev/ngp_jax/notebook_train.ipynb#X12sZmlsZQ%3D%3D?line=11'>12</a>\u001b[0m \u001b[39m# init the model\u001b[39;00m\n\u001b[0;32m---> <a href='vscode-notebook-cell:/Users/ngh/Desktop/dev/ngp_jax/notebook_train.ipynb#X12sZmlsZQ%3D%3D?line=12'>13</a>\u001b[0m model, params \u001b[39m=\u001b[39m init_model(key, (img_ht\u001b[39m*\u001b[39;49mimg_wid, \u001b[39m3\u001b[39;49m))\n\u001b[1;32m     <a href='vscode-notebook-cell:/Users/ngh/Desktop/dev/ngp_jax/notebook_train.ipynb#X12sZmlsZQ%3D%3D?line=14'>15</a>\u001b[0m \u001b[39m# optimizer\u001b[39;00m\n\u001b[1;32m     <a href='vscode-notebook-cell:/Users/ngh/Desktop/dev/ngp_jax/notebook_train.ipynb#X12sZmlsZQ%3D%3D?line=15'>16</a>\u001b[0m optimizer \u001b[39m=\u001b[39m optax\u001b[39m.\u001b[39madam(learning_rate\u001b[39m=\u001b[39mconfig\u001b[39m.\u001b[39mlr)\n",
      "\u001b[1;32m/Users/ngh/Desktop/dev/ngp_jax/notebook_train.ipynb Cell 10\u001b[0m in \u001b[0;36minit_model\u001b[0;34m(key, input_pts_shape)\u001b[0m\n\u001b[1;32m      <a href='vscode-notebook-cell:/Users/ngh/Desktop/dev/ngp_jax/notebook_train.ipynb#X12sZmlsZQ%3D%3D?line=8'>9</a>\u001b[0m model \u001b[39m=\u001b[39m HashNeRF()\n\u001b[1;32m     <a href='vscode-notebook-cell:/Users/ngh/Desktop/dev/ngp_jax/notebook_train.ipynb#X12sZmlsZQ%3D%3D?line=10'>11</a>\u001b[0m \u001b[39m# init model\u001b[39;00m\n\u001b[0;32m---> <a href='vscode-notebook-cell:/Users/ngh/Desktop/dev/ngp_jax/notebook_train.ipynb#X12sZmlsZQ%3D%3D?line=11'>12</a>\u001b[0m init_params \u001b[39m=\u001b[39m jit(model\u001b[39m.\u001b[39;49minit)({\u001b[39m\"\u001b[39;49m\u001b[39mparams\u001b[39;49m\u001b[39m\"\u001b[39;49m:key}, jnp\u001b[39m.\u001b[39;49mones(input_pts_shape))\n\u001b[1;32m     <a href='vscode-notebook-cell:/Users/ngh/Desktop/dev/ngp_jax/notebook_train.ipynb#X12sZmlsZQ%3D%3D?line=13'>14</a>\u001b[0m \u001b[39mreturn\u001b[39;00m model, init_params[\u001b[39m\"\u001b[39m\u001b[39mparams\u001b[39m\u001b[39m\"\u001b[39m]\n",
      "    \u001b[0;31m[... skipping hidden 1 frame]\u001b[0m\n",
      "File \u001b[0;32m~/opt/anaconda3/envs/jax/lib/python3.10/site-packages/jax/_src/api.py:527\u001b[0m, in \u001b[0;36m_cpp_jit.<locals>.cache_miss\u001b[0;34m(*args, **kwargs)\u001b[0m\n\u001b[1;32m    525\u001b[0m   in_type \u001b[39m=\u001b[39m pe\u001b[39m.\u001b[39minfer_lambda_input_type(\u001b[39mNone\u001b[39;00m, args_flat)\n\u001b[1;32m    526\u001b[0m   flat_fun \u001b[39m=\u001b[39m lu\u001b[39m.\u001b[39mannotate(flat_fun, in_type)\n\u001b[0;32m--> 527\u001b[0m out_flat \u001b[39m=\u001b[39m xla\u001b[39m.\u001b[39;49mxla_call(\n\u001b[1;32m    528\u001b[0m     flat_fun, \u001b[39m*\u001b[39;49margs_flat,\n\u001b[1;32m    529\u001b[0m     device\u001b[39m=\u001b[39;49mdevice, backend\u001b[39m=\u001b[39;49mbackend, name\u001b[39m=\u001b[39;49mflat_fun\u001b[39m.\u001b[39;49m\u001b[39m__name__\u001b[39;49m,\n\u001b[1;32m    530\u001b[0m     donated_invars\u001b[39m=\u001b[39;49mdonated_invars, inline\u001b[39m=\u001b[39;49minline, keep_unused\u001b[39m=\u001b[39;49mkeep_unused)\n\u001b[1;32m    531\u001b[0m out_pytree_def \u001b[39m=\u001b[39m out_tree()\n\u001b[1;32m    532\u001b[0m out \u001b[39m=\u001b[39m tree_unflatten(out_pytree_def, out_flat)\n",
      "File \u001b[0;32m~/opt/anaconda3/envs/jax/lib/python3.10/site-packages/jax/core.py:1937\u001b[0m, in \u001b[0;36mCallPrimitive.bind\u001b[0;34m(self, fun, *args, **params)\u001b[0m\n\u001b[1;32m   1936\u001b[0m \u001b[39mdef\u001b[39;00m \u001b[39mbind\u001b[39m(\u001b[39mself\u001b[39m, fun, \u001b[39m*\u001b[39margs, \u001b[39m*\u001b[39m\u001b[39m*\u001b[39mparams):\n\u001b[0;32m-> 1937\u001b[0m   \u001b[39mreturn\u001b[39;00m call_bind(\u001b[39mself\u001b[39;49m, fun, \u001b[39m*\u001b[39;49margs, \u001b[39m*\u001b[39;49m\u001b[39m*\u001b[39;49mparams)\n",
      "File \u001b[0;32m~/opt/anaconda3/envs/jax/lib/python3.10/site-packages/jax/core.py:1953\u001b[0m, in \u001b[0;36mcall_bind\u001b[0;34m(primitive, fun, *args, **params)\u001b[0m\n\u001b[1;32m   1951\u001b[0m tracers \u001b[39m=\u001b[39m \u001b[39mmap\u001b[39m(top_trace\u001b[39m.\u001b[39mfull_raise, args)\n\u001b[1;32m   1952\u001b[0m fun_ \u001b[39m=\u001b[39m lu\u001b[39m.\u001b[39mannotate(fun_, fun\u001b[39m.\u001b[39min_type)\n\u001b[0;32m-> 1953\u001b[0m outs \u001b[39m=\u001b[39m top_trace\u001b[39m.\u001b[39;49mprocess_call(primitive, fun_, tracers, params)\n\u001b[1;32m   1954\u001b[0m \u001b[39mreturn\u001b[39;00m \u001b[39mmap\u001b[39m(full_lower, apply_todos(env_trace_todo(), outs))\n",
      "File \u001b[0;32m~/opt/anaconda3/envs/jax/lib/python3.10/site-packages/jax/core.py:687\u001b[0m, in \u001b[0;36mEvalTrace.process_call\u001b[0;34m(self, primitive, f, tracers, params)\u001b[0m\n\u001b[1;32m    686\u001b[0m \u001b[39mdef\u001b[39;00m \u001b[39mprocess_call\u001b[39m(\u001b[39mself\u001b[39m, primitive, f, tracers, params):\n\u001b[0;32m--> 687\u001b[0m   \u001b[39mreturn\u001b[39;00m primitive\u001b[39m.\u001b[39;49mimpl(f, \u001b[39m*\u001b[39;49mtracers, \u001b[39m*\u001b[39;49m\u001b[39m*\u001b[39;49mparams)\n",
      "File \u001b[0;32m~/opt/anaconda3/envs/jax/lib/python3.10/site-packages/jax/_src/dispatch.py:208\u001b[0m, in \u001b[0;36m_xla_call_impl\u001b[0;34m(***failed resolving arguments***)\u001b[0m\n\u001b[1;32m    206\u001b[0m \u001b[39melse\u001b[39;00m:\n\u001b[1;32m    207\u001b[0m   arg_specs \u001b[39m=\u001b[39m [(\u001b[39mNone\u001b[39;00m, \u001b[39mgetattr\u001b[39m(x, \u001b[39m'\u001b[39m\u001b[39m_device\u001b[39m\u001b[39m'\u001b[39m, \u001b[39mNone\u001b[39;00m)) \u001b[39mfor\u001b[39;00m x \u001b[39min\u001b[39;00m args]\n\u001b[0;32m--> 208\u001b[0m compiled_fun \u001b[39m=\u001b[39m xla_callable(fun, device, backend, name, donated_invars,\n\u001b[1;32m    209\u001b[0m                             keep_unused, \u001b[39m*\u001b[39;49marg_specs)\n\u001b[1;32m    210\u001b[0m \u001b[39mtry\u001b[39;00m:\n\u001b[1;32m    211\u001b[0m   \u001b[39mreturn\u001b[39;00m compiled_fun(\u001b[39m*\u001b[39margs)\n",
      "File \u001b[0;32m~/opt/anaconda3/envs/jax/lib/python3.10/site-packages/jax/linear_util.py:295\u001b[0m, in \u001b[0;36mcache.<locals>.memoized_fun\u001b[0;34m(fun, *args)\u001b[0m\n\u001b[1;32m    293\u001b[0m   fun\u001b[39m.\u001b[39mpopulate_stores(stores)\n\u001b[1;32m    294\u001b[0m \u001b[39melse\u001b[39;00m:\n\u001b[0;32m--> 295\u001b[0m   ans \u001b[39m=\u001b[39m call(fun, \u001b[39m*\u001b[39;49margs)\n\u001b[1;32m    296\u001b[0m   cache[key] \u001b[39m=\u001b[39m (ans, fun\u001b[39m.\u001b[39mstores)\n\u001b[1;32m    298\u001b[0m thread_local\u001b[39m.\u001b[39mmost_recent_entry \u001b[39m=\u001b[39m weakref\u001b[39m.\u001b[39mref(ans)\n",
      "File \u001b[0;32m~/opt/anaconda3/envs/jax/lib/python3.10/site-packages/jax/_src/dispatch.py:258\u001b[0m, in \u001b[0;36m_xla_callable_uncached\u001b[0;34m(fun, device, backend, name, donated_invars, keep_unused, *arg_specs)\u001b[0m\n\u001b[1;32m    255\u001b[0m \u001b[39mdef\u001b[39;00m \u001b[39m_xla_callable_uncached\u001b[39m(fun: lu\u001b[39m.\u001b[39mWrappedFun, device, backend, name,\n\u001b[1;32m    256\u001b[0m                            donated_invars, keep_unused, \u001b[39m*\u001b[39marg_specs):\n\u001b[1;32m    257\u001b[0m   \u001b[39mreturn\u001b[39;00m lower_xla_callable(fun, device, backend, name, donated_invars, \u001b[39mFalse\u001b[39;49;00m,\n\u001b[0;32m--> 258\u001b[0m                             keep_unused, \u001b[39m*\u001b[39;49marg_specs)\u001b[39m.\u001b[39;49mcompile()\u001b[39m.\u001b[39munsafe_call\n",
      "File \u001b[0;32m~/opt/anaconda3/envs/jax/lib/python3.10/site-packages/jax/_src/dispatch.py:849\u001b[0m, in \u001b[0;36mXlaComputation.compile\u001b[0;34m(self)\u001b[0m\n\u001b[1;32m    846\u001b[0m     \u001b[39mself\u001b[39m\u001b[39m.\u001b[39m_executable \u001b[39m=\u001b[39m XlaCompiledComputation\u001b[39m.\u001b[39mfrom_trivial_jaxpr(\n\u001b[1;32m    847\u001b[0m         \u001b[39m*\u001b[39m\u001b[39m*\u001b[39m\u001b[39mself\u001b[39m\u001b[39m.\u001b[39mcompile_args)\n\u001b[1;32m    848\u001b[0m   \u001b[39melse\u001b[39;00m:\n\u001b[0;32m--> 849\u001b[0m     \u001b[39mself\u001b[39m\u001b[39m.\u001b[39m_executable \u001b[39m=\u001b[39m XlaCompiledComputation\u001b[39m.\u001b[39;49mfrom_xla_computation(\n\u001b[1;32m    850\u001b[0m         \u001b[39mself\u001b[39;49m\u001b[39m.\u001b[39;49mname, \u001b[39mself\u001b[39;49m\u001b[39m.\u001b[39;49m_hlo, \u001b[39mself\u001b[39;49m\u001b[39m.\u001b[39;49m_in_type, \u001b[39mself\u001b[39;49m\u001b[39m.\u001b[39;49m_out_type,\n\u001b[1;32m    851\u001b[0m         \u001b[39m*\u001b[39;49m\u001b[39m*\u001b[39;49m\u001b[39mself\u001b[39;49m\u001b[39m.\u001b[39;49mcompile_args)\n\u001b[1;32m    853\u001b[0m \u001b[39mreturn\u001b[39;00m \u001b[39mself\u001b[39m\u001b[39m.\u001b[39m_executable\n",
      "File \u001b[0;32m~/opt/anaconda3/envs/jax/lib/python3.10/site-packages/jax/_src/dispatch.py:956\u001b[0m, in \u001b[0;36mXlaCompiledComputation.from_xla_computation\u001b[0;34m(name, xla_computation, in_type, out_type, nreps, device, backend, tuple_args, in_avals, out_avals, has_unordered_effects, ordered_effects, kept_var_idx, keepalive, host_callbacks)\u001b[0m\n\u001b[1;32m    953\u001b[0m options\u001b[39m.\u001b[39mparameter_is_tupled_arguments \u001b[39m=\u001b[39m tuple_args\n\u001b[1;32m    954\u001b[0m \u001b[39mwith\u001b[39;00m log_elapsed_time(\u001b[39mf\u001b[39m\u001b[39m\"\u001b[39m\u001b[39mFinished XLA compilation of \u001b[39m\u001b[39m{\u001b[39;00mname\u001b[39m}\u001b[39;00m\u001b[39m \u001b[39m\u001b[39m\"\u001b[39m\n\u001b[1;32m    955\u001b[0m                       \u001b[39m\"\u001b[39m\u001b[39min \u001b[39m\u001b[39m{elapsed_time}\u001b[39;00m\u001b[39m sec\u001b[39m\u001b[39m\"\u001b[39m):\n\u001b[0;32m--> 956\u001b[0m   compiled \u001b[39m=\u001b[39m compile_or_get_cached(backend, xla_computation, options,\n\u001b[1;32m    957\u001b[0m                                    host_callbacks)\n\u001b[1;32m    958\u001b[0m buffer_counts \u001b[39m=\u001b[39m [aval_to_num_buffers(aval) \u001b[39mfor\u001b[39;00m aval \u001b[39min\u001b[39;00m out_avals]\n\u001b[1;32m    959\u001b[0m \u001b[39mif\u001b[39;00m ordered_effects \u001b[39mor\u001b[39;00m has_unordered_effects:\n",
      "File \u001b[0;32m~/opt/anaconda3/envs/jax/lib/python3.10/site-packages/jax/_src/dispatch.py:921\u001b[0m, in \u001b[0;36mcompile_or_get_cached\u001b[0;34m(backend, computation, compile_options, host_callbacks)\u001b[0m\n\u001b[1;32m    919\u001b[0m     ir_str \u001b[39m=\u001b[39m computation\n\u001b[1;32m    920\u001b[0m   _dump_ir_to_file(module_name, ir_str)\n\u001b[0;32m--> 921\u001b[0m \u001b[39mreturn\u001b[39;00m backend_compile(backend, computation, compile_options, host_callbacks)\n",
      "File \u001b[0;32m~/opt/anaconda3/envs/jax/lib/python3.10/site-packages/jax/_src/profiler.py:294\u001b[0m, in \u001b[0;36mannotate_function.<locals>.wrapper\u001b[0;34m(*args, **kwargs)\u001b[0m\n\u001b[1;32m    291\u001b[0m \u001b[39m@wraps\u001b[39m(func)\n\u001b[1;32m    292\u001b[0m \u001b[39mdef\u001b[39;00m \u001b[39mwrapper\u001b[39m(\u001b[39m*\u001b[39margs, \u001b[39m*\u001b[39m\u001b[39m*\u001b[39mkwargs):\n\u001b[1;32m    293\u001b[0m   \u001b[39mwith\u001b[39;00m TraceAnnotation(name, \u001b[39m*\u001b[39m\u001b[39m*\u001b[39mdecorator_kwargs):\n\u001b[0;32m--> 294\u001b[0m     \u001b[39mreturn\u001b[39;00m func(\u001b[39m*\u001b[39;49margs, \u001b[39m*\u001b[39;49m\u001b[39m*\u001b[39;49mkwargs)\n\u001b[1;32m    295\u001b[0m   \u001b[39mreturn\u001b[39;00m wrapper\n",
      "File \u001b[0;32m~/opt/anaconda3/envs/jax/lib/python3.10/site-packages/jax/_src/dispatch.py:865\u001b[0m, in \u001b[0;36mbackend_compile\u001b[0;34m(backend, built_c, options, host_callbacks)\u001b[0m\n\u001b[1;32m    860\u001b[0m   \u001b[39mreturn\u001b[39;00m backend\u001b[39m.\u001b[39mcompile(built_c, compile_options\u001b[39m=\u001b[39moptions,\n\u001b[1;32m    861\u001b[0m                          host_callbacks\u001b[39m=\u001b[39mhost_callbacks)\n\u001b[1;32m    862\u001b[0m \u001b[39m# Some backends don't have `host_callbacks` option yet\u001b[39;00m\n\u001b[1;32m    863\u001b[0m \u001b[39m# TODO(sharadmv): remove this fallback when all backends allow `compile`\u001b[39;00m\n\u001b[1;32m    864\u001b[0m \u001b[39m# to take in `host_callbacks`\u001b[39;00m\n\u001b[0;32m--> 865\u001b[0m \u001b[39mreturn\u001b[39;00m backend\u001b[39m.\u001b[39;49mcompile(built_c, compile_options\u001b[39m=\u001b[39;49moptions)\n",
      "\u001b[0;31mKeyboardInterrupt\u001b[0m: "
     ]
    }
   ],
   "source": [
    "# create train and validation rays\n",
    "train_rays = np.stack(list(map(lambda x: generate_rays(img_ht, img_wid, focal, x), train_poses)))\n",
    "val_rays = generate_rays(img_ht, img_wid, focal, val_pose)\n",
    "\n",
    "# number of devices\n",
    "n_devices = local_device_count()\n",
    "print(\"Using {} devices to compute\".format(n_devices))\n",
    "\n",
    "# rand number generation\n",
    "key, rng = jax.random.split(jax.random.PRNGKey(0))\n",
    "\n",
    "# init the model\n",
    "model, params = init_model(key, (img_ht*img_wid, 3))\n",
    "\n",
    "# optimizer\n",
    "optimizer = optax.adam(learning_rate=config.lr)\n",
    "\n",
    "# training state\n",
    "state = train_state.TrainState.create(apply_fn=model.apply, params=params, tx=optimizer)\n",
    "\n",
    "# transfer arrays in the state to specified devices and form ShardedDeviceArrays\n",
    "state = device_put_replicated(state, local_devices())"
   ]
  },
  {
   "cell_type": "markdown",
   "metadata": {},
   "source": [
    "## Define routines for validation"
   ]
  },
  {
   "cell_type": "code",
   "execution_count": null,
   "metadata": {},
   "outputs": [],
   "source": [
    "@jit\n",
    "def validation_step(state):\n",
    "    \"\"\"\n",
    "    Validation\n",
    "    \"\"\"\n",
    "    model_fn = lambda x: state.apply_fn({\"params\": state.params}, x)\n",
    "    ray_origins, ray_directions = val_rays\n",
    "\n",
    "    pred_rgb, pred_depth, *_ = perform_volume_rendering(model_fn, ray_origins, ray_directions)\n",
    "\n",
    "    val_loss = jnp.mean( (pred_rgb - val_image)**2 )\n",
    "    val_psnr = -10.0 * jnp.log(val_loss) / jnp.log(10.0)\n",
    "    return pred_rgb, pred_depth, val_psnr, val_loss"
   ]
  },
  {
   "cell_type": "code",
   "execution_count": null,
   "metadata": {},
   "outputs": [],
   "source": [
    "def train_and_evaluate(state, train_step_fn, validation_step_fn):\n",
    "    train_loss_history, train_psnr_history = [], []\n",
    "    val_loss_history, val_psnr_history = [], []\n",
    "\n",
    "    for epoch in tqdm(range(config.train_epochs)):\n",
    "        # shard random number generators\n",
    "        rng_index, rng_epoch = jax.random.split(jax.random.fold_in(rng, epoch))\n",
    "        sharded_rngs = common_utils.shard_prng_key(rng_epoch)\n",
    "\n",
    "        # create training batch \n",
    "        train_index = jax.random.randint(rng_index, (n_devices,), minval=0, maxval=len(train_rays))\n",
    "        train_batch = train_rays[tuple(train_index), ...],\\\n",
    "                      train_images[tuple(train_index), ...]\n",
    "        \n",
    "        # perform training step\n",
    "        train_loss, train_psnr, state = train_step_fn(state, train_batch, sharded_rngs)\n",
    "        avg_train_loss = np.asarray(np.mean(train_loss))\n",
    "        avg_train_psnr = np.asarray(np.mean(train_psnr))\n",
    "        train_loss_history.append(avg_train_loss)\n",
    "        train_psnr_history.append(avg_train_psnr)\n",
    "        \n",
    "        # logging\n",
    "        print(\"Train loss @ epoch {}: {}\".format(epoch, avg_train_loss))\n",
    "        print(\"Train psnr @ epoch {}: {}\".format(epoch, avg_train_psnr))\n",
    "\n",
    "        # perform validation step\n",
    "        validation_state = unreplicate(state)\n",
    "        rgb, depth, val_psnr, val_loss = validation_step_fn(validation_state)\n",
    "        avg_val_loss = np.asarray(np.mean(val_loss))\n",
    "        avg_val_psnr = np.asarray(np.mean(val_psnr))\n",
    "        val_loss_history.append(avg_val_loss)\n",
    "        val_psnr_history.append(avg_val_psnr)\n",
    "        \n",
    "        # logging\n",
    "        print(\"Val loss @ epoch {}: {}\".format(epoch, avg_train_loss))\n",
    "        print(\"Val psnr @ epoch {}: {}\".format(epoch, avg_train_psnr))\n",
    "\n",
    "        # plot result at every plot interval\n",
    "        if epoch % config.plot_interval == 0:\n",
    "            fig, (ax1, ax2) = plt.subplots(1, 2, figsize=(10,4))\n",
    "            ax1.imshow(rgb)\n",
    "            ax1.set_title(\"Predicted RGB at epoch: {}\".format(epoch))\n",
    "            ax1.axis('off')\n",
    "            ax2.imshow(depth)\n",
    "            ax2.set_title('Predicted RGB at epoch: {}'.format(epoch))\n",
    "            ax2.axis('off')\n",
    "            plt.show()\n",
    "    \n",
    "    inference_state = unreplicate(state)\n",
    "    history = {\n",
    "        'train_loss': train_loss_history,\n",
    "        'train_psnr': train_psnr_history,\n",
    "        'val_loss': val_loss_history,\n",
    "        'val_psnr': val_psnr_history\n",
    "    }\n",
    "    return state, inference_state, history"
   ]
  },
  {
   "cell_type": "markdown",
   "metadata": {},
   "source": [
    "## Start training"
   ]
  },
  {
   "cell_type": "code",
   "execution_count": null,
   "metadata": {},
   "outputs": [
    {
     "name": "stderr",
     "output_type": "stream",
     "text": [
      "  0%|          | 0/1000 [00:11<?, ?it/s]\n"
     ]
    },
    {
     "ename": "KeyboardInterrupt",
     "evalue": "",
     "output_type": "error",
     "traceback": [
      "\u001b[0;31m---------------------------------------------------------------------------\u001b[0m",
      "\u001b[0;31mKeyboardInterrupt\u001b[0m                         Traceback (most recent call last)",
      "\u001b[1;32m/Users/ngh/Desktop/dev/ngp_jax/notebook_train.ipynb Cell 15\u001b[0m in \u001b[0;36m<cell line: 7>\u001b[0;34m()\u001b[0m\n\u001b[1;32m      <a href='vscode-notebook-cell:/Users/ngh/Desktop/dev/ngp_jax/notebook_train.ipynb#X20sZmlsZQ%3D%3D?line=0'>1</a>\u001b[0m \u001b[39m# perform training now\u001b[39;00m\n\u001b[1;32m      <a href='vscode-notebook-cell:/Users/ngh/Desktop/dev/ngp_jax/notebook_train.ipynb#X20sZmlsZQ%3D%3D?line=1'>2</a>\u001b[0m \u001b[39m# Apply the transform jax.pmap on the train_step to parallelize it on XLA devices\u001b[39;00m\n\u001b[1;32m      <a href='vscode-notebook-cell:/Users/ngh/Desktop/dev/ngp_jax/notebook_train.ipynb#X20sZmlsZQ%3D%3D?line=2'>3</a>\u001b[0m \u001b[39m# While vmap vectorizes a function by adding a batch dimension to every primitive operation \u001b[39;00m\n\u001b[1;32m      <a href='vscode-notebook-cell:/Users/ngh/Desktop/dev/ngp_jax/notebook_train.ipynb#X20sZmlsZQ%3D%3D?line=3'>4</a>\u001b[0m \u001b[39m# in the function, pmap replicates the function and executes each replica \u001b[39;00m\n\u001b[1;32m      <a href='vscode-notebook-cell:/Users/ngh/Desktop/dev/ngp_jax/notebook_train.ipynb#X20sZmlsZQ%3D%3D?line=4'>5</a>\u001b[0m \u001b[39m# on its own XLA device in parallel.\u001b[39;00m\n\u001b[1;32m      <a href='vscode-notebook-cell:/Users/ngh/Desktop/dev/ngp_jax/notebook_train.ipynb#X20sZmlsZQ%3D%3D?line=5'>6</a>\u001b[0m parallelized_train_step \u001b[39m=\u001b[39m pmap(train_step, axis_name\u001b[39m=\u001b[39m\u001b[39m\"\u001b[39m\u001b[39mbatch\u001b[39m\u001b[39m\"\u001b[39m)\n\u001b[0;32m----> <a href='vscode-notebook-cell:/Users/ngh/Desktop/dev/ngp_jax/notebook_train.ipynb#X20sZmlsZQ%3D%3D?line=6'>7</a>\u001b[0m state, inference_state, history \u001b[39m=\u001b[39m train_and_evaluate(state, parallelized_train_step, validation_step)\n",
      "\u001b[1;32m/Users/ngh/Desktop/dev/ngp_jax/notebook_train.ipynb Cell 15\u001b[0m in \u001b[0;36mtrain_and_evaluate\u001b[0;34m(state, train_step_fn, validation_step_fn)\u001b[0m\n\u001b[1;32m     <a href='vscode-notebook-cell:/Users/ngh/Desktop/dev/ngp_jax/notebook_train.ipynb#X20sZmlsZQ%3D%3D?line=11'>12</a>\u001b[0m train_batch \u001b[39m=\u001b[39m train_rays[\u001b[39mtuple\u001b[39m(train_index), \u001b[39m.\u001b[39m\u001b[39m.\u001b[39m\u001b[39m.\u001b[39m],\\\n\u001b[1;32m     <a href='vscode-notebook-cell:/Users/ngh/Desktop/dev/ngp_jax/notebook_train.ipynb#X20sZmlsZQ%3D%3D?line=12'>13</a>\u001b[0m               train_images[\u001b[39mtuple\u001b[39m(train_index), \u001b[39m.\u001b[39m\u001b[39m.\u001b[39m\u001b[39m.\u001b[39m]\n\u001b[1;32m     <a href='vscode-notebook-cell:/Users/ngh/Desktop/dev/ngp_jax/notebook_train.ipynb#X20sZmlsZQ%3D%3D?line=14'>15</a>\u001b[0m \u001b[39m# perform training step\u001b[39;00m\n\u001b[0;32m---> <a href='vscode-notebook-cell:/Users/ngh/Desktop/dev/ngp_jax/notebook_train.ipynb#X20sZmlsZQ%3D%3D?line=15'>16</a>\u001b[0m train_loss, train_psnr, state \u001b[39m=\u001b[39m train_step_fn(state, train_batch, sharded_rngs)\n\u001b[1;32m     <a href='vscode-notebook-cell:/Users/ngh/Desktop/dev/ngp_jax/notebook_train.ipynb#X20sZmlsZQ%3D%3D?line=16'>17</a>\u001b[0m avg_train_loss \u001b[39m=\u001b[39m np\u001b[39m.\u001b[39masarray(np\u001b[39m.\u001b[39mmean(train_loss))\n\u001b[1;32m     <a href='vscode-notebook-cell:/Users/ngh/Desktop/dev/ngp_jax/notebook_train.ipynb#X20sZmlsZQ%3D%3D?line=17'>18</a>\u001b[0m avg_train_psnr \u001b[39m=\u001b[39m np\u001b[39m.\u001b[39masarray(np\u001b[39m.\u001b[39mmean(train_psnr))\n",
      "    \u001b[0;31m[... skipping hidden 1 frame]\u001b[0m\n",
      "File \u001b[0;32m~/opt/anaconda3/envs/jax/lib/python3.10/site-packages/jax/_src/api.py:2156\u001b[0m, in \u001b[0;36m_cpp_pmap.<locals>.cache_miss\u001b[0;34m(*args, **kwargs)\u001b[0m\n\u001b[1;32m   2142\u001b[0m \u001b[39m@api_boundary\u001b[39m\n\u001b[1;32m   2143\u001b[0m \u001b[39mdef\u001b[39;00m \u001b[39mcache_miss\u001b[39m(\u001b[39m*\u001b[39margs, \u001b[39m*\u001b[39m\u001b[39m*\u001b[39mkwargs):\n\u001b[1;32m   2144\u001b[0m   f_pmapped_ \u001b[39m=\u001b[39m _get_f_mapped(\n\u001b[1;32m   2145\u001b[0m       fun\u001b[39m=\u001b[39mfun,\n\u001b[1;32m   2146\u001b[0m       axis_name\u001b[39m=\u001b[39maxis_name,\n\u001b[0;32m   (...)\u001b[0m\n\u001b[1;32m   2153\u001b[0m       global_arg_shapes\u001b[39m=\u001b[39mglobal_arg_shapes,\n\u001b[1;32m   2154\u001b[0m       donate_tuple\u001b[39m=\u001b[39mdonate_tuple)\n\u001b[0;32m-> 2156\u001b[0m   out_tree, out_flat \u001b[39m=\u001b[39m f_pmapped_(\u001b[39m*\u001b[39;49margs, \u001b[39m*\u001b[39;49m\u001b[39m*\u001b[39;49mkwargs)\n\u001b[1;32m   2157\u001b[0m   out_pytree_def \u001b[39m=\u001b[39m out_tree()\n\u001b[1;32m   2158\u001b[0m   out \u001b[39m=\u001b[39m tree_unflatten(out_pytree_def, out_flat)\n",
      "File \u001b[0;32m~/opt/anaconda3/envs/jax/lib/python3.10/site-packages/jax/_src/api.py:2032\u001b[0m, in \u001b[0;36m_get_f_mapped.<locals>.pmap_f\u001b[0;34m(*args, **kwargs)\u001b[0m\n\u001b[1;32m   2030\u001b[0m \u001b[39mfor\u001b[39;00m arg \u001b[39min\u001b[39;00m p\u001b[39m.\u001b[39mflat_args:\n\u001b[1;32m   2031\u001b[0m   _check_arg(arg)\n\u001b[0;32m-> 2032\u001b[0m out \u001b[39m=\u001b[39m pxla\u001b[39m.\u001b[39;49mxla_pmap(\n\u001b[1;32m   2033\u001b[0m     p\u001b[39m.\u001b[39;49mflat_fun, \u001b[39m*\u001b[39;49mp\u001b[39m.\u001b[39;49mflat_args, backend\u001b[39m=\u001b[39;49mbackend, axis_name\u001b[39m=\u001b[39;49maxis_name,\n\u001b[1;32m   2034\u001b[0m     axis_size\u001b[39m=\u001b[39;49mp\u001b[39m.\u001b[39;49mlocal_axis_size, global_axis_size\u001b[39m=\u001b[39;49maxis_size,\n\u001b[1;32m   2035\u001b[0m     devices\u001b[39m=\u001b[39;49mp\u001b[39m.\u001b[39;49mdevices,\n\u001b[1;32m   2036\u001b[0m     in_axes\u001b[39m=\u001b[39;49mp\u001b[39m.\u001b[39;49min_axes_flat, out_axes_thunk\u001b[39m=\u001b[39;49mp\u001b[39m.\u001b[39;49mout_axes_thunk,\n\u001b[1;32m   2037\u001b[0m     name\u001b[39m=\u001b[39;49mp\u001b[39m.\u001b[39;49mflat_fun\u001b[39m.\u001b[39;49m\u001b[39m__name__\u001b[39;49m, donated_invars\u001b[39m=\u001b[39;49mp\u001b[39m.\u001b[39;49mdonated_invars,\n\u001b[1;32m   2038\u001b[0m     global_arg_shapes\u001b[39m=\u001b[39;49mp\u001b[39m.\u001b[39;49mglobal_arg_shapes_flat)\n\u001b[1;32m   2039\u001b[0m \u001b[39mreturn\u001b[39;00m p\u001b[39m.\u001b[39mout_tree, out\n",
      "File \u001b[0;32m~/opt/anaconda3/envs/jax/lib/python3.10/site-packages/jax/core.py:2040\u001b[0m, in \u001b[0;36mMapPrimitive.bind\u001b[0;34m(self, fun, *args, **params)\u001b[0m\n\u001b[1;32m   2038\u001b[0m \u001b[39mdef\u001b[39;00m \u001b[39mbind\u001b[39m(\u001b[39mself\u001b[39m, fun, \u001b[39m*\u001b[39margs, \u001b[39m*\u001b[39m\u001b[39m*\u001b[39mparams):\n\u001b[1;32m   2039\u001b[0m   \u001b[39massert\u001b[39;00m \u001b[39mlen\u001b[39m(params[\u001b[39m'\u001b[39m\u001b[39min_axes\u001b[39m\u001b[39m'\u001b[39m]) \u001b[39m==\u001b[39m \u001b[39mlen\u001b[39m(args)\n\u001b[0;32m-> 2040\u001b[0m   \u001b[39mreturn\u001b[39;00m map_bind(\u001b[39mself\u001b[39;49m, fun, \u001b[39m*\u001b[39;49margs, \u001b[39m*\u001b[39;49m\u001b[39m*\u001b[39;49mparams)\n",
      "File \u001b[0;32m~/opt/anaconda3/envs/jax/lib/python3.10/site-packages/jax/core.py:2072\u001b[0m, in \u001b[0;36mmap_bind\u001b[0;34m(primitive, fun, out_axes_thunk, *args, **params)\u001b[0m\n\u001b[1;32m   2069\u001b[0m fun, todo_and_xforms \u001b[39m=\u001b[39m process_env_traces_map(\n\u001b[1;32m   2070\u001b[0m     fun, primitive, top_trace \u001b[39mand\u001b[39;00m top_trace\u001b[39m.\u001b[39mlevel, \u001b[39mtuple\u001b[39m(params\u001b[39m.\u001b[39mitems()))\n\u001b[1;32m   2071\u001b[0m tracers \u001b[39m=\u001b[39m \u001b[39mmap\u001b[39m(top_trace\u001b[39m.\u001b[39mfull_raise, args)\n\u001b[0;32m-> 2072\u001b[0m outs \u001b[39m=\u001b[39m primitive\u001b[39m.\u001b[39;49mprocess(top_trace, fun, tracers, params)\n\u001b[1;32m   2073\u001b[0m env_trace_todo, _ \u001b[39m=\u001b[39m todo_and_xforms()\n\u001b[1;32m   2074\u001b[0m \u001b[39mreturn\u001b[39;00m \u001b[39mmap\u001b[39m(full_lower, apply_todos(env_trace_todo, outs))\n",
      "File \u001b[0;32m~/opt/anaconda3/envs/jax/lib/python3.10/site-packages/jax/core.py:2043\u001b[0m, in \u001b[0;36mMapPrimitive.process\u001b[0;34m(self, trace, fun, tracers, params)\u001b[0m\n\u001b[1;32m   2042\u001b[0m \u001b[39mdef\u001b[39;00m \u001b[39mprocess\u001b[39m(\u001b[39mself\u001b[39m, trace, fun, tracers, params):\n\u001b[0;32m-> 2043\u001b[0m   \u001b[39mreturn\u001b[39;00m trace\u001b[39m.\u001b[39;49mprocess_map(\u001b[39mself\u001b[39;49m, fun, tracers, params)\n",
      "File \u001b[0;32m~/opt/anaconda3/envs/jax/lib/python3.10/site-packages/jax/core.py:687\u001b[0m, in \u001b[0;36mEvalTrace.process_call\u001b[0;34m(self, primitive, f, tracers, params)\u001b[0m\n\u001b[1;32m    686\u001b[0m \u001b[39mdef\u001b[39;00m \u001b[39mprocess_call\u001b[39m(\u001b[39mself\u001b[39m, primitive, f, tracers, params):\n\u001b[0;32m--> 687\u001b[0m   \u001b[39mreturn\u001b[39;00m primitive\u001b[39m.\u001b[39;49mimpl(f, \u001b[39m*\u001b[39;49mtracers, \u001b[39m*\u001b[39;49m\u001b[39m*\u001b[39;49mparams)\n",
      "File \u001b[0;32m~/opt/anaconda3/envs/jax/lib/python3.10/site-packages/jax/interpreters/pxla.py:907\u001b[0m, in \u001b[0;36mxla_pmap_impl\u001b[0;34m(fun, backend, axis_name, axis_size, global_axis_size, devices, name, in_axes, out_axes_thunk, donated_invars, global_arg_shapes, *args)\u001b[0m\n\u001b[1;32m    895\u001b[0m \u001b[39mdef\u001b[39;00m \u001b[39mxla_pmap_impl\u001b[39m(fun: lu\u001b[39m.\u001b[39mWrappedFun, \u001b[39m*\u001b[39margs,\n\u001b[1;32m    896\u001b[0m                   backend: Optional[\u001b[39mstr\u001b[39m],\n\u001b[1;32m    897\u001b[0m                   axis_name: core\u001b[39m.\u001b[39mAxisName,\n\u001b[0;32m   (...)\u001b[0m\n\u001b[1;32m    904\u001b[0m                   donated_invars: Sequence[\u001b[39mbool\u001b[39m],\n\u001b[1;32m    905\u001b[0m                   global_arg_shapes: Sequence[Optional[Tuple[\u001b[39mint\u001b[39m, \u001b[39m.\u001b[39m\u001b[39m.\u001b[39m\u001b[39m.\u001b[39m]]]):\n\u001b[1;32m    906\u001b[0m   abstract_args \u001b[39m=\u001b[39m unsafe_map(xla\u001b[39m.\u001b[39mabstractify, args)\n\u001b[0;32m--> 907\u001b[0m   compiled_fun, fingerprint \u001b[39m=\u001b[39m parallel_callable(\n\u001b[1;32m    908\u001b[0m       fun, backend, axis_name, axis_size, global_axis_size, devices, name,\n\u001b[1;32m    909\u001b[0m       in_axes, out_axes_thunk, donated_invars, global_arg_shapes,\n\u001b[1;32m    910\u001b[0m       \u001b[39m*\u001b[39;49mabstract_args)\n\u001b[1;32m    912\u001b[0m   \u001b[39m# Don't re-abstractify args unless logging is enabled for performance.\u001b[39;00m\n\u001b[1;32m    913\u001b[0m   \u001b[39mif\u001b[39;00m config\u001b[39m.\u001b[39mjax_distributed_debug:\n",
      "File \u001b[0;32m~/opt/anaconda3/envs/jax/lib/python3.10/site-packages/jax/linear_util.py:295\u001b[0m, in \u001b[0;36mcache.<locals>.memoized_fun\u001b[0;34m(fun, *args)\u001b[0m\n\u001b[1;32m    293\u001b[0m   fun\u001b[39m.\u001b[39mpopulate_stores(stores)\n\u001b[1;32m    294\u001b[0m \u001b[39melse\u001b[39;00m:\n\u001b[0;32m--> 295\u001b[0m   ans \u001b[39m=\u001b[39m call(fun, \u001b[39m*\u001b[39;49margs)\n\u001b[1;32m    296\u001b[0m   cache[key] \u001b[39m=\u001b[39m (ans, fun\u001b[39m.\u001b[39mstores)\n\u001b[1;32m    298\u001b[0m thread_local\u001b[39m.\u001b[39mmost_recent_entry \u001b[39m=\u001b[39m weakref\u001b[39m.\u001b[39mref(ans)\n",
      "File \u001b[0;32m~/opt/anaconda3/envs/jax/lib/python3.10/site-packages/jax/interpreters/pxla.py:935\u001b[0m, in \u001b[0;36mparallel_callable\u001b[0;34m(fun, backend_name, axis_name, axis_size, global_axis_size, devices, name, in_axes, out_axes_thunk, donated_invars, global_arg_shapes, *avals)\u001b[0m\n\u001b[1;32m    922\u001b[0m \u001b[39m@lu\u001b[39m\u001b[39m.\u001b[39mcache\n\u001b[1;32m    923\u001b[0m \u001b[39mdef\u001b[39;00m \u001b[39mparallel_callable\u001b[39m(fun: lu\u001b[39m.\u001b[39mWrappedFun,\n\u001b[1;32m    924\u001b[0m                       backend_name: Optional[\u001b[39mstr\u001b[39m],\n\u001b[0;32m   (...)\u001b[0m\n\u001b[1;32m    933\u001b[0m                       global_arg_shapes: Sequence[Optional[Tuple[\u001b[39mint\u001b[39m, \u001b[39m.\u001b[39m\u001b[39m.\u001b[39m\u001b[39m.\u001b[39m]]],\n\u001b[1;32m    934\u001b[0m                       \u001b[39m*\u001b[39mavals):\n\u001b[0;32m--> 935\u001b[0m   pmap_computation \u001b[39m=\u001b[39m lower_parallel_callable(\n\u001b[1;32m    936\u001b[0m       fun, backend_name, axis_name, axis_size, global_axis_size, devices, name,\n\u001b[1;32m    937\u001b[0m       in_axes, out_axes_thunk, donated_invars, global_arg_shapes, avals)\n\u001b[1;32m    938\u001b[0m   pmap_executable \u001b[39m=\u001b[39m pmap_computation\u001b[39m.\u001b[39mcompile()\n\u001b[1;32m    939\u001b[0m   \u001b[39mreturn\u001b[39;00m WeakRefList([pmap_executable\u001b[39m.\u001b[39munsafe_call, pmap_executable\u001b[39m.\u001b[39mfingerprint])\n",
      "File \u001b[0;32m~/opt/anaconda3/envs/jax/lib/python3.10/site-packages/jax/_src/profiler.py:294\u001b[0m, in \u001b[0;36mannotate_function.<locals>.wrapper\u001b[0;34m(*args, **kwargs)\u001b[0m\n\u001b[1;32m    291\u001b[0m \u001b[39m@wraps\u001b[39m(func)\n\u001b[1;32m    292\u001b[0m \u001b[39mdef\u001b[39;00m \u001b[39mwrapper\u001b[39m(\u001b[39m*\u001b[39margs, \u001b[39m*\u001b[39m\u001b[39m*\u001b[39mkwargs):\n\u001b[1;32m    293\u001b[0m   \u001b[39mwith\u001b[39;00m TraceAnnotation(name, \u001b[39m*\u001b[39m\u001b[39m*\u001b[39mdecorator_kwargs):\n\u001b[0;32m--> 294\u001b[0m     \u001b[39mreturn\u001b[39;00m func(\u001b[39m*\u001b[39;49margs, \u001b[39m*\u001b[39;49m\u001b[39m*\u001b[39;49mkwargs)\n\u001b[1;32m    295\u001b[0m   \u001b[39mreturn\u001b[39;00m wrapper\n",
      "File \u001b[0;32m~/opt/anaconda3/envs/jax/lib/python3.10/site-packages/jax/interpreters/pxla.py:1170\u001b[0m, in \u001b[0;36mlower_parallel_callable\u001b[0;34m(fun, backend_name, axis_name, axis_size, global_axis_size, devices, name, in_axes, out_axes_thunk, donated_invars, global_arg_shapes, avals)\u001b[0m\n\u001b[1;32m   1167\u001b[0m     \u001b[39mraise\u001b[39;00m \u001b[39mValueError\u001b[39;00m(\u001b[39m\"\u001b[39m\u001b[39mOrdered effects not supported in `pmap`.\u001b[39m\u001b[39m\"\u001b[39m)\n\u001b[1;32m   1168\u001b[0m   unordered_effects \u001b[39m=\u001b[39m [eff \u001b[39mfor\u001b[39;00m eff \u001b[39min\u001b[39;00m closed_jaxpr\u001b[39m.\u001b[39meffects\n\u001b[1;32m   1169\u001b[0m                        \u001b[39mif\u001b[39;00m eff \u001b[39mnot\u001b[39;00m \u001b[39min\u001b[39;00m core\u001b[39m.\u001b[39mordered_effects]\n\u001b[0;32m-> 1170\u001b[0m   lowering_result \u001b[39m=\u001b[39m mlir\u001b[39m.\u001b[39;49mlower_jaxpr_to_module(\n\u001b[1;32m   1171\u001b[0m       module_name, closed_jaxpr, unordered_effects, [],\n\u001b[1;32m   1172\u001b[0m       backend\u001b[39m.\u001b[39;49mplatform, mlir\u001b[39m.\u001b[39;49mReplicaAxisContext(axis_env),\n\u001b[1;32m   1173\u001b[0m       name_stack, donated_invars, replicated_args\u001b[39m=\u001b[39;49mreplicated_args,\n\u001b[1;32m   1174\u001b[0m       arg_shardings\u001b[39m=\u001b[39;49m_shardings_to_mlir_shardings(parts\u001b[39m.\u001b[39;49marg_parts),\n\u001b[1;32m   1175\u001b[0m       result_shardings\u001b[39m=\u001b[39;49m_shardings_to_mlir_shardings(parts\u001b[39m.\u001b[39;49mout_parts))\n\u001b[1;32m   1176\u001b[0m   module, keepalive, host_callbacks \u001b[39m=\u001b[39m (\n\u001b[1;32m   1177\u001b[0m       lowering_result\u001b[39m.\u001b[39mmodule, lowering_result\u001b[39m.\u001b[39mkeepalive,\n\u001b[1;32m   1178\u001b[0m       lowering_result\u001b[39m.\u001b[39mhost_callbacks)\n\u001b[1;32m   1179\u001b[0m \u001b[39mreturn\u001b[39;00m PmapComputation(module, pci\u001b[39m=\u001b[39mpci, replicas\u001b[39m=\u001b[39mreplicas, parts\u001b[39m=\u001b[39mparts,\n\u001b[1;32m   1180\u001b[0m                        shards\u001b[39m=\u001b[39mshards, tuple_args\u001b[39m=\u001b[39mtuple_args,\n\u001b[1;32m   1181\u001b[0m                        unordered_effects\u001b[39m=\u001b[39munordered_effects,\n\u001b[1;32m   1182\u001b[0m                        keepalive\u001b[39m=\u001b[39mkeepalive, host_callbacks\u001b[39m=\u001b[39mhost_callbacks)\n",
      "File \u001b[0;32m~/opt/anaconda3/envs/jax/lib/python3.10/site-packages/jax/interpreters/mlir.py:618\u001b[0m, in \u001b[0;36mlower_jaxpr_to_module\u001b[0;34m(module_name, jaxpr, unordered_effects, ordered_effects, platform, axis_context, name_stack, donated_args, replicated_args, arg_shardings, result_shardings)\u001b[0m\n\u001b[1;32m    615\u001b[0m   \u001b[39mif\u001b[39;00m unlowerable_effects:\n\u001b[1;32m    616\u001b[0m     \u001b[39mraise\u001b[39;00m \u001b[39mValueError\u001b[39;00m(\n\u001b[1;32m    617\u001b[0m         \u001b[39mf\u001b[39m\u001b[39m'\u001b[39m\u001b[39mCannot lower jaxpr with unlowerable effects: \u001b[39m\u001b[39m{\u001b[39;00munlowerable_effects\u001b[39m}\u001b[39;00m\u001b[39m'\u001b[39m)\n\u001b[0;32m--> 618\u001b[0m   lower_jaxpr_to_fun(\n\u001b[1;32m    619\u001b[0m       ctx, \u001b[39m\"\u001b[39;49m\u001b[39mmain\u001b[39;49m\u001b[39m\"\u001b[39;49m, jaxpr, ordered_effects, public\u001b[39m=\u001b[39;49m\u001b[39mTrue\u001b[39;49;00m, create_tokens\u001b[39m=\u001b[39;49m\u001b[39mTrue\u001b[39;49;00m,\n\u001b[1;32m    620\u001b[0m       replace_tokens_with_dummy\u001b[39m=\u001b[39;49m\u001b[39mTrue\u001b[39;49;00m,\n\u001b[1;32m    621\u001b[0m       num_output_tokens\u001b[39m=\u001b[39;49m(\n\u001b[1;32m    622\u001b[0m         \u001b[39m1\u001b[39;49m \u001b[39mif\u001b[39;49;00m (unordered_effects \u001b[39mand\u001b[39;49;00m \u001b[39mnot\u001b[39;49;00m can_execute_with_token) \u001b[39melse\u001b[39;49;00m \u001b[39m0\u001b[39;49m),\n\u001b[1;32m    623\u001b[0m       replicated_args\u001b[39m=\u001b[39;49mreplicated_args,\n\u001b[1;32m    624\u001b[0m       arg_shardings\u001b[39m=\u001b[39;49marg_shardings, result_shardings\u001b[39m=\u001b[39;49mresult_shardings,\n\u001b[1;32m    625\u001b[0m       input_output_aliases\u001b[39m=\u001b[39;49minput_output_aliases)\n\u001b[1;32m    627\u001b[0m ctx\u001b[39m.\u001b[39mmodule\u001b[39m.\u001b[39moperation\u001b[39m.\u001b[39mverify()\n\u001b[1;32m    628\u001b[0m \u001b[39mreturn\u001b[39;00m LoweringResult(ctx\u001b[39m.\u001b[39mmodule, ctx\u001b[39m.\u001b[39mkeepalives, ctx\u001b[39m.\u001b[39mhost_callbacks)\n",
      "File \u001b[0;32m~/opt/anaconda3/envs/jax/lib/python3.10/site-packages/jax/interpreters/mlir.py:881\u001b[0m, in \u001b[0;36mlower_jaxpr_to_fun\u001b[0;34m(ctx, name, jaxpr, effects, create_tokens, public, replace_tokens_with_dummy, replicated_args, arg_shardings, result_shardings, use_sharding_annotations, input_output_aliases, num_output_tokens)\u001b[0m\n\u001b[1;32m    878\u001b[0m     args\u001b[39m.\u001b[39mappend(arg)\n\u001b[1;32m    879\u001b[0m callee_name_stack \u001b[39m=\u001b[39m xla\u001b[39m.\u001b[39mextend_name_stack(ctx\u001b[39m.\u001b[39mname_stack,\n\u001b[1;32m    880\u001b[0m                                           util\u001b[39m.\u001b[39mwrap_name(name, \u001b[39m'\u001b[39m\u001b[39mjit\u001b[39m\u001b[39m'\u001b[39m))\n\u001b[0;32m--> 881\u001b[0m out_vals, tokens_out \u001b[39m=\u001b[39m jaxpr_subcomp(ctx\u001b[39m.\u001b[39;49mreplace(name_stack\u001b[39m=\u001b[39;49mcallee_name_stack),\n\u001b[1;32m    882\u001b[0m                                      jaxpr\u001b[39m.\u001b[39;49mjaxpr, tokens_in, \u001b[39mmap\u001b[39;49m(ir_constants, jaxpr\u001b[39m.\u001b[39;49mconsts),\n\u001b[1;32m    883\u001b[0m                                      \u001b[39m*\u001b[39;49margs)\n\u001b[1;32m    884\u001b[0m outs \u001b[39m=\u001b[39m []\n\u001b[1;32m    885\u001b[0m \u001b[39mif\u001b[39;00m create_tokens:\n",
      "File \u001b[0;32m~/opt/anaconda3/envs/jax/lib/python3.10/site-packages/jax/interpreters/mlir.py:1008\u001b[0m, in \u001b[0;36mjaxpr_subcomp\u001b[0;34m(ctx, jaxpr, tokens, consts, *args)\u001b[0m\n\u001b[1;32m   1004\u001b[0m   axis_size_env \u001b[39m=\u001b[39m {d: read(d)[\u001b[39m0\u001b[39m]\n\u001b[1;32m   1005\u001b[0m                    \u001b[39mfor\u001b[39;00m a \u001b[39min\u001b[39;00m avals_in \u001b[39mif\u001b[39;00m \u001b[39mtype\u001b[39m(a) \u001b[39mis\u001b[39;00m core\u001b[39m.\u001b[39mDShapedArray\n\u001b[1;32m   1006\u001b[0m                    \u001b[39mfor\u001b[39;00m d \u001b[39min\u001b[39;00m a\u001b[39m.\u001b[39mshape \u001b[39mif\u001b[39;00m \u001b[39mtype\u001b[39m(d) \u001b[39mis\u001b[39;00m core\u001b[39m.\u001b[39mVar}\n\u001b[1;32m   1007\u001b[0m   rule_ctx \u001b[39m=\u001b[39m rule_ctx\u001b[39m.\u001b[39mreplace(axis_size_env\u001b[39m=\u001b[39maxis_size_env)\n\u001b[0;32m-> 1008\u001b[0m ans \u001b[39m=\u001b[39m rule(rule_ctx, \u001b[39m*\u001b[39;49m\u001b[39mmap\u001b[39;49m(_unwrap_singleton_ir_values, in_nodes),\n\u001b[1;32m   1009\u001b[0m            \u001b[39m*\u001b[39;49m\u001b[39m*\u001b[39;49meqn\u001b[39m.\u001b[39;49mparams)\n\u001b[1;32m   1010\u001b[0m \u001b[39mif\u001b[39;00m effects:\n\u001b[1;32m   1011\u001b[0m   \u001b[39m# If there were ordered effects in the primitive, there should be output\u001b[39;00m\n\u001b[1;32m   1012\u001b[0m   \u001b[39m# tokens we need for subsequent ordered effects.\u001b[39;00m\n\u001b[1;32m   1013\u001b[0m   tokens_out \u001b[39m=\u001b[39m rule_ctx\u001b[39m.\u001b[39mtokens_out\n",
      "File \u001b[0;32m~/opt/anaconda3/envs/jax/lib/python3.10/site-packages/jax/interpreters/mlir.py:1071\u001b[0m, in \u001b[0;36mlower_fun.<locals>.f_lowered\u001b[0;34m(ctx, *args, **params)\u001b[0m\n\u001b[1;32m   1069\u001b[0m \u001b[39melse\u001b[39;00m:\n\u001b[1;32m   1070\u001b[0m   \u001b[39mwith\u001b[39;00m core\u001b[39m.\u001b[39mextend_axis_env_nd(\u001b[39mzip\u001b[39m(axis_env\u001b[39m.\u001b[39mnames, axis_env\u001b[39m.\u001b[39msizes)):\n\u001b[0;32m-> 1071\u001b[0m     jaxpr, _, consts \u001b[39m=\u001b[39m pe\u001b[39m.\u001b[39;49mtrace_to_jaxpr_dynamic(wrapped_fun, ctx\u001b[39m.\u001b[39;49mavals_in)\n\u001b[1;32m   1073\u001b[0m out, tokens \u001b[39m=\u001b[39m jaxpr_subcomp(\n\u001b[1;32m   1074\u001b[0m     ctx\u001b[39m.\u001b[39mmodule_context, jaxpr, ctx\u001b[39m.\u001b[39mtokens_in, _ir_consts(consts),\n\u001b[1;32m   1075\u001b[0m     \u001b[39m*\u001b[39m\u001b[39mmap\u001b[39m(wrap_singleton_ir_values, args))\n\u001b[1;32m   1076\u001b[0m ctx\u001b[39m.\u001b[39mset_tokens_out(tokens)\n",
      "File \u001b[0;32m~/opt/anaconda3/envs/jax/lib/python3.10/site-packages/jax/_src/profiler.py:294\u001b[0m, in \u001b[0;36mannotate_function.<locals>.wrapper\u001b[0;34m(*args, **kwargs)\u001b[0m\n\u001b[1;32m    291\u001b[0m \u001b[39m@wraps\u001b[39m(func)\n\u001b[1;32m    292\u001b[0m \u001b[39mdef\u001b[39;00m \u001b[39mwrapper\u001b[39m(\u001b[39m*\u001b[39margs, \u001b[39m*\u001b[39m\u001b[39m*\u001b[39mkwargs):\n\u001b[1;32m    293\u001b[0m   \u001b[39mwith\u001b[39;00m TraceAnnotation(name, \u001b[39m*\u001b[39m\u001b[39m*\u001b[39mdecorator_kwargs):\n\u001b[0;32m--> 294\u001b[0m     \u001b[39mreturn\u001b[39;00m func(\u001b[39m*\u001b[39;49margs, \u001b[39m*\u001b[39;49m\u001b[39m*\u001b[39;49mkwargs)\n\u001b[1;32m    295\u001b[0m   \u001b[39mreturn\u001b[39;00m wrapper\n",
      "File \u001b[0;32m~/opt/anaconda3/envs/jax/lib/python3.10/site-packages/jax/interpreters/partial_eval.py:2092\u001b[0m, in \u001b[0;36mtrace_to_jaxpr_dynamic\u001b[0;34m(fun, in_avals, debug_info, keep_inputs)\u001b[0m\n\u001b[1;32m   2090\u001b[0m \u001b[39mwith\u001b[39;00m core\u001b[39m.\u001b[39mnew_main(DynamicJaxprTrace, dynamic\u001b[39m=\u001b[39m\u001b[39mTrue\u001b[39;00m) \u001b[39mas\u001b[39;00m main:  \u001b[39m# type: ignore\u001b[39;00m\n\u001b[1;32m   2091\u001b[0m   main\u001b[39m.\u001b[39mjaxpr_stack \u001b[39m=\u001b[39m ()  \u001b[39m# type: ignore\u001b[39;00m\n\u001b[0;32m-> 2092\u001b[0m   jaxpr, out_avals, consts \u001b[39m=\u001b[39m trace_to_subjaxpr_dynamic(\n\u001b[1;32m   2093\u001b[0m     fun, main, in_avals, keep_inputs\u001b[39m=\u001b[39;49mkeep_inputs, debug_info\u001b[39m=\u001b[39;49mdebug_info)\n\u001b[1;32m   2094\u001b[0m   \u001b[39mdel\u001b[39;00m main, fun\n\u001b[1;32m   2095\u001b[0m \u001b[39mreturn\u001b[39;00m jaxpr, out_avals, consts\n",
      "File \u001b[0;32m~/opt/anaconda3/envs/jax/lib/python3.10/site-packages/jax/interpreters/partial_eval.py:2109\u001b[0m, in \u001b[0;36mtrace_to_subjaxpr_dynamic\u001b[0;34m(fun, main, in_avals, keep_inputs, debug_info)\u001b[0m\n\u001b[1;32m   2107\u001b[0m in_tracers \u001b[39m=\u001b[39m _input_type_to_tracers(trace\u001b[39m.\u001b[39mnew_arg, in_avals)\n\u001b[1;32m   2108\u001b[0m in_tracers_ \u001b[39m=\u001b[39m [t \u001b[39mfor\u001b[39;00m t, keep \u001b[39min\u001b[39;00m \u001b[39mzip\u001b[39m(in_tracers, keep_inputs) \u001b[39mif\u001b[39;00m keep]\n\u001b[0;32m-> 2109\u001b[0m ans \u001b[39m=\u001b[39m fun\u001b[39m.\u001b[39;49mcall_wrapped(\u001b[39m*\u001b[39;49min_tracers_)\n\u001b[1;32m   2110\u001b[0m out_tracers \u001b[39m=\u001b[39m \u001b[39mmap\u001b[39m(trace\u001b[39m.\u001b[39mfull_raise, ans)\n\u001b[1;32m   2111\u001b[0m jaxpr, consts \u001b[39m=\u001b[39m frame\u001b[39m.\u001b[39mto_jaxpr(out_tracers)\n",
      "File \u001b[0;32m~/opt/anaconda3/envs/jax/lib/python3.10/site-packages/jax/linear_util.py:168\u001b[0m, in \u001b[0;36mWrappedFun.call_wrapped\u001b[0;34m(self, *args, **kwargs)\u001b[0m\n\u001b[1;32m    165\u001b[0m gen \u001b[39m=\u001b[39m gen_static_args \u001b[39m=\u001b[39m out_store \u001b[39m=\u001b[39m \u001b[39mNone\u001b[39;00m\n\u001b[1;32m    167\u001b[0m \u001b[39mtry\u001b[39;00m:\n\u001b[0;32m--> 168\u001b[0m   ans \u001b[39m=\u001b[39m \u001b[39mself\u001b[39;49m\u001b[39m.\u001b[39;49mf(\u001b[39m*\u001b[39;49margs, \u001b[39m*\u001b[39;49m\u001b[39m*\u001b[39;49m\u001b[39mdict\u001b[39;49m(\u001b[39mself\u001b[39;49m\u001b[39m.\u001b[39;49mparams, \u001b[39m*\u001b[39;49m\u001b[39m*\u001b[39;49mkwargs))\n\u001b[1;32m    169\u001b[0m \u001b[39mexcept\u001b[39;00m:\n\u001b[1;32m    170\u001b[0m   \u001b[39m# Some transformations yield from inside context managers, so we have to\u001b[39;00m\n\u001b[1;32m    171\u001b[0m   \u001b[39m# interrupt them before reraising the exception. Otherwise they will only\u001b[39;00m\n\u001b[1;32m    172\u001b[0m   \u001b[39m# get garbage-collected at some later time, running their cleanup tasks\u001b[39;00m\n\u001b[1;32m    173\u001b[0m   \u001b[39m# only after this exception is handled, which can corrupt the global\u001b[39;00m\n\u001b[1;32m    174\u001b[0m   \u001b[39m# state.\u001b[39;00m\n\u001b[1;32m    175\u001b[0m   \u001b[39mwhile\u001b[39;00m stack:\n",
      "File \u001b[0;32m~/opt/anaconda3/envs/jax/lib/python3.10/site-packages/jax/_src/lax/control_flow/loops.py:362\u001b[0m, in \u001b[0;36m_scan_impl\u001b[0;34m(reverse, length, num_consts, num_carry, jaxpr, linear, unroll, *args)\u001b[0m\n\u001b[1;32m    359\u001b[0m f_impl \u001b[39m=\u001b[39m core\u001b[39m.\u001b[39mjaxpr_as_fun(jaxpr)\n\u001b[1;32m    361\u001b[0m \u001b[39mif\u001b[39;00m unroll \u001b[39m==\u001b[39m \u001b[39m1\u001b[39m:\n\u001b[0;32m--> 362\u001b[0m   \u001b[39mreturn\u001b[39;00m _scan_impl_loop(\n\u001b[1;32m    363\u001b[0m       \u001b[39m*\u001b[39;49margs, reverse\u001b[39m=\u001b[39;49mreverse, length\u001b[39m=\u001b[39;49mlength, num_consts\u001b[39m=\u001b[39;49mnum_consts,\n\u001b[1;32m    364\u001b[0m       num_carry\u001b[39m=\u001b[39;49mnum_carry, linear\u001b[39m=\u001b[39;49mlinear, f_impl\u001b[39m=\u001b[39;49mf_impl, x_avals\u001b[39m=\u001b[39;49mx_avals,\n\u001b[1;32m    365\u001b[0m       y_avals\u001b[39m=\u001b[39;49my_avals)\n\u001b[1;32m    367\u001b[0m consts, init, xs \u001b[39m=\u001b[39m split_list(args, [num_consts, num_carry])\n\u001b[1;32m    368\u001b[0m num_blocks, rem \u001b[39m=\u001b[39m \u001b[39mdivmod\u001b[39m(length, unroll)\n",
      "File \u001b[0;32m~/opt/anaconda3/envs/jax/lib/python3.10/site-packages/jax/_src/lax/control_flow/loops.py:323\u001b[0m, in \u001b[0;36m_scan_impl_loop\u001b[0;34m(reverse, length, num_consts, num_carry, linear, f_impl, x_avals, y_avals, *args)\u001b[0m\n\u001b[1;32m    321\u001b[0m \u001b[39melse\u001b[39;00m:\n\u001b[1;32m    322\u001b[0m   init_val \u001b[39m=\u001b[39m [lax\u001b[39m.\u001b[39m_const(length, \u001b[39m0\u001b[39m)] \u001b[39m+\u001b[39m init \u001b[39m+\u001b[39m ys_init\n\u001b[0;32m--> 323\u001b[0m   _, \u001b[39m*\u001b[39mouts \u001b[39m=\u001b[39m while_loop(cond_fun, body_fun, init_val)\n\u001b[1;32m    324\u001b[0m   \u001b[39mreturn\u001b[39;00m outs\n",
      "    \u001b[0;31m[... skipping hidden 1 frame]\u001b[0m\n",
      "File \u001b[0;32m~/opt/anaconda3/envs/jax/lib/python3.10/site-packages/jax/_src/lax/control_flow/loops.py:1111\u001b[0m, in \u001b[0;36mwhile_loop\u001b[0;34m(cond_fun, body_fun, init_val)\u001b[0m\n\u001b[1;32m   1104\u001b[0m   \u001b[39mreturn\u001b[39;00m init_vals, init_avals, body_jaxpr, in_tree, cond_jaxpr, cond_consts, body_consts, body_tree\n\u001b[1;32m   1106\u001b[0m \u001b[39m# The body input and output avals must match exactly. However, we want to account for\u001b[39;00m\n\u001b[1;32m   1107\u001b[0m \u001b[39m# the case when init contains weakly-typed values (e.g. Python scalars), with avals that\u001b[39;00m\n\u001b[1;32m   1108\u001b[0m \u001b[39m# may not match the output despite being compatible by virtue of their weak type.\u001b[39;00m\n\u001b[1;32m   1109\u001b[0m \u001b[39m# To do this, we compute the jaxpr in two passes: first with the raw inputs, and if\u001b[39;00m\n\u001b[1;32m   1110\u001b[0m \u001b[39m# necessary, a second time with modified init values.\u001b[39;00m\n\u001b[0;32m-> 1111\u001b[0m init_vals, init_avals, body_jaxpr, in_tree, \u001b[39m*\u001b[39mrest \u001b[39m=\u001b[39m _create_jaxpr(init_val)\n\u001b[1;32m   1112\u001b[0m new_init_vals, changed \u001b[39m=\u001b[39m _promote_weak_typed_inputs(init_vals, init_avals, body_jaxpr\u001b[39m.\u001b[39mout_avals)\n\u001b[1;32m   1113\u001b[0m \u001b[39mif\u001b[39;00m changed:\n",
      "File \u001b[0;32m~/opt/anaconda3/envs/jax/lib/python3.10/site-packages/jax/_src/lax/control_flow/loops.py:1094\u001b[0m, in \u001b[0;36mwhile_loop.<locals>._create_jaxpr\u001b[0;34m(init_val)\u001b[0m\n\u001b[1;32m   1091\u001b[0m init_avals \u001b[39m=\u001b[39m \u001b[39mtuple\u001b[39m(_map(_abstractify, init_vals))\n\u001b[1;32m   1092\u001b[0m cond_jaxpr, cond_consts, cond_tree \u001b[39m=\u001b[39m _initial_style_jaxpr(\n\u001b[1;32m   1093\u001b[0m     cond_fun, in_tree, init_avals, \u001b[39m\"\u001b[39m\u001b[39mwhile_cond\u001b[39m\u001b[39m\"\u001b[39m)\n\u001b[0;32m-> 1094\u001b[0m body_jaxpr, body_consts, body_tree \u001b[39m=\u001b[39m _initial_style_jaxpr(\n\u001b[1;32m   1095\u001b[0m     body_fun, in_tree, init_avals, \u001b[39m\"\u001b[39;49m\u001b[39mwhile_loop\u001b[39;49m\u001b[39m\"\u001b[39;49m)\n\u001b[1;32m   1096\u001b[0m \u001b[39mif\u001b[39;00m \u001b[39mnot\u001b[39;00m treedef_is_leaf(cond_tree) \u001b[39mor\u001b[39;00m \u001b[39mlen\u001b[39m(cond_jaxpr\u001b[39m.\u001b[39mout_avals) \u001b[39m!=\u001b[39m \u001b[39m1\u001b[39m:\n\u001b[1;32m   1097\u001b[0m   msg \u001b[39m=\u001b[39m \u001b[39m\"\u001b[39m\u001b[39mcond_fun must return a boolean scalar, but got pytree \u001b[39m\u001b[39m{}\u001b[39;00m\u001b[39m.\u001b[39m\u001b[39m\"\u001b[39m\n",
      "File \u001b[0;32m~/opt/anaconda3/envs/jax/lib/python3.10/site-packages/jax/_src/util.py:273\u001b[0m, in \u001b[0;36mweakref_lru_cache.<locals>.wrapped\u001b[0;34m(weak_arg, *args, **kwargs)\u001b[0m\n\u001b[1;32m    271\u001b[0m     \u001b[39mreturn\u001b[39;00m result\n\u001b[1;32m    272\u001b[0m   misses \u001b[39m+\u001b[39m\u001b[39m=\u001b[39m \u001b[39m1\u001b[39m\n\u001b[0;32m--> 273\u001b[0m result \u001b[39m=\u001b[39m call(weak_arg, \u001b[39m*\u001b[39;49margs, \u001b[39m*\u001b[39;49m\u001b[39m*\u001b[39;49mkwargs)\n\u001b[1;32m    274\u001b[0m \u001b[39mwith\u001b[39;00m lock:\n\u001b[1;32m    275\u001b[0m   cache[k] \u001b[39m=\u001b[39m result\n",
      "File \u001b[0;32m~/opt/anaconda3/envs/jax/lib/python3.10/site-packages/jax/_src/lax/control_flow/common.py:57\u001b[0m, in \u001b[0;36m_initial_style_jaxpr\u001b[0;34m(fun, in_tree, in_avals, primitive_name)\u001b[0m\n\u001b[1;32m     54\u001b[0m \u001b[39m@weakref_lru_cache\u001b[39m\n\u001b[1;32m     55\u001b[0m \u001b[39mdef\u001b[39;00m \u001b[39m_initial_style_jaxpr\u001b[39m(fun: Callable, in_tree, in_avals,\n\u001b[1;32m     56\u001b[0m                          primitive_name: Optional[\u001b[39mstr\u001b[39m] \u001b[39m=\u001b[39m \u001b[39mNone\u001b[39;00m):\n\u001b[0;32m---> 57\u001b[0m   jaxpr, consts, out_tree \u001b[39m=\u001b[39m _initial_style_open_jaxpr(\n\u001b[1;32m     58\u001b[0m       fun, in_tree, in_avals, primitive_name)\n\u001b[1;32m     59\u001b[0m   closed_jaxpr \u001b[39m=\u001b[39m core\u001b[39m.\u001b[39mClosedJaxpr(pe\u001b[39m.\u001b[39mconvert_constvars_jaxpr(jaxpr), ())\n\u001b[1;32m     60\u001b[0m   \u001b[39mreturn\u001b[39;00m closed_jaxpr, consts, out_tree\n",
      "File \u001b[0;32m~/opt/anaconda3/envs/jax/lib/python3.10/site-packages/jax/_src/util.py:273\u001b[0m, in \u001b[0;36mweakref_lru_cache.<locals>.wrapped\u001b[0;34m(weak_arg, *args, **kwargs)\u001b[0m\n\u001b[1;32m    271\u001b[0m     \u001b[39mreturn\u001b[39;00m result\n\u001b[1;32m    272\u001b[0m   misses \u001b[39m+\u001b[39m\u001b[39m=\u001b[39m \u001b[39m1\u001b[39m\n\u001b[0;32m--> 273\u001b[0m result \u001b[39m=\u001b[39m call(weak_arg, \u001b[39m*\u001b[39;49margs, \u001b[39m*\u001b[39;49m\u001b[39m*\u001b[39;49mkwargs)\n\u001b[1;32m    274\u001b[0m \u001b[39mwith\u001b[39;00m lock:\n\u001b[1;32m    275\u001b[0m   cache[k] \u001b[39m=\u001b[39m result\n",
      "File \u001b[0;32m~/opt/anaconda3/envs/jax/lib/python3.10/site-packages/jax/_src/lax/control_flow/common.py:51\u001b[0m, in \u001b[0;36m_initial_style_open_jaxpr\u001b[0;34m(fun, in_tree, in_avals, primitive_name)\u001b[0m\n\u001b[1;32m     49\u001b[0m wrapped_fun, out_tree \u001b[39m=\u001b[39m flatten_fun_nokwargs(lu\u001b[39m.\u001b[39mwrap_init(fun), in_tree)\n\u001b[1;32m     50\u001b[0m debug \u001b[39m=\u001b[39m pe\u001b[39m.\u001b[39mdebug_info(fun, in_tree, \u001b[39mFalse\u001b[39;00m, primitive_name \u001b[39mor\u001b[39;00m \u001b[39m\"\u001b[39m\u001b[39m<unknown>\u001b[39m\u001b[39m\"\u001b[39m)\n\u001b[0;32m---> 51\u001b[0m jaxpr, _, consts \u001b[39m=\u001b[39m pe\u001b[39m.\u001b[39;49mtrace_to_jaxpr_dynamic(wrapped_fun, in_avals, debug)\n\u001b[1;32m     52\u001b[0m \u001b[39mreturn\u001b[39;00m jaxpr, consts, out_tree()\n",
      "File \u001b[0;32m~/opt/anaconda3/envs/jax/lib/python3.10/site-packages/jax/_src/profiler.py:294\u001b[0m, in \u001b[0;36mannotate_function.<locals>.wrapper\u001b[0;34m(*args, **kwargs)\u001b[0m\n\u001b[1;32m    291\u001b[0m \u001b[39m@wraps\u001b[39m(func)\n\u001b[1;32m    292\u001b[0m \u001b[39mdef\u001b[39;00m \u001b[39mwrapper\u001b[39m(\u001b[39m*\u001b[39margs, \u001b[39m*\u001b[39m\u001b[39m*\u001b[39mkwargs):\n\u001b[1;32m    293\u001b[0m   \u001b[39mwith\u001b[39;00m TraceAnnotation(name, \u001b[39m*\u001b[39m\u001b[39m*\u001b[39mdecorator_kwargs):\n\u001b[0;32m--> 294\u001b[0m     \u001b[39mreturn\u001b[39;00m func(\u001b[39m*\u001b[39;49margs, \u001b[39m*\u001b[39;49m\u001b[39m*\u001b[39;49mkwargs)\n\u001b[1;32m    295\u001b[0m   \u001b[39mreturn\u001b[39;00m wrapper\n",
      "File \u001b[0;32m~/opt/anaconda3/envs/jax/lib/python3.10/site-packages/jax/interpreters/partial_eval.py:2092\u001b[0m, in \u001b[0;36mtrace_to_jaxpr_dynamic\u001b[0;34m(fun, in_avals, debug_info, keep_inputs)\u001b[0m\n\u001b[1;32m   2090\u001b[0m \u001b[39mwith\u001b[39;00m core\u001b[39m.\u001b[39mnew_main(DynamicJaxprTrace, dynamic\u001b[39m=\u001b[39m\u001b[39mTrue\u001b[39;00m) \u001b[39mas\u001b[39;00m main:  \u001b[39m# type: ignore\u001b[39;00m\n\u001b[1;32m   2091\u001b[0m   main\u001b[39m.\u001b[39mjaxpr_stack \u001b[39m=\u001b[39m ()  \u001b[39m# type: ignore\u001b[39;00m\n\u001b[0;32m-> 2092\u001b[0m   jaxpr, out_avals, consts \u001b[39m=\u001b[39m trace_to_subjaxpr_dynamic(\n\u001b[1;32m   2093\u001b[0m     fun, main, in_avals, keep_inputs\u001b[39m=\u001b[39;49mkeep_inputs, debug_info\u001b[39m=\u001b[39;49mdebug_info)\n\u001b[1;32m   2094\u001b[0m   \u001b[39mdel\u001b[39;00m main, fun\n\u001b[1;32m   2095\u001b[0m \u001b[39mreturn\u001b[39;00m jaxpr, out_avals, consts\n",
      "File \u001b[0;32m~/opt/anaconda3/envs/jax/lib/python3.10/site-packages/jax/interpreters/partial_eval.py:2109\u001b[0m, in \u001b[0;36mtrace_to_subjaxpr_dynamic\u001b[0;34m(fun, main, in_avals, keep_inputs, debug_info)\u001b[0m\n\u001b[1;32m   2107\u001b[0m in_tracers \u001b[39m=\u001b[39m _input_type_to_tracers(trace\u001b[39m.\u001b[39mnew_arg, in_avals)\n\u001b[1;32m   2108\u001b[0m in_tracers_ \u001b[39m=\u001b[39m [t \u001b[39mfor\u001b[39;00m t, keep \u001b[39min\u001b[39;00m \u001b[39mzip\u001b[39m(in_tracers, keep_inputs) \u001b[39mif\u001b[39;00m keep]\n\u001b[0;32m-> 2109\u001b[0m ans \u001b[39m=\u001b[39m fun\u001b[39m.\u001b[39;49mcall_wrapped(\u001b[39m*\u001b[39;49min_tracers_)\n\u001b[1;32m   2110\u001b[0m out_tracers \u001b[39m=\u001b[39m \u001b[39mmap\u001b[39m(trace\u001b[39m.\u001b[39mfull_raise, ans)\n\u001b[1;32m   2111\u001b[0m jaxpr, consts \u001b[39m=\u001b[39m frame\u001b[39m.\u001b[39mto_jaxpr(out_tracers)\n",
      "File \u001b[0;32m~/opt/anaconda3/envs/jax/lib/python3.10/site-packages/jax/linear_util.py:168\u001b[0m, in \u001b[0;36mWrappedFun.call_wrapped\u001b[0;34m(self, *args, **kwargs)\u001b[0m\n\u001b[1;32m    165\u001b[0m gen \u001b[39m=\u001b[39m gen_static_args \u001b[39m=\u001b[39m out_store \u001b[39m=\u001b[39m \u001b[39mNone\u001b[39;00m\n\u001b[1;32m    167\u001b[0m \u001b[39mtry\u001b[39;00m:\n\u001b[0;32m--> 168\u001b[0m   ans \u001b[39m=\u001b[39m \u001b[39mself\u001b[39;49m\u001b[39m.\u001b[39;49mf(\u001b[39m*\u001b[39;49margs, \u001b[39m*\u001b[39;49m\u001b[39m*\u001b[39;49m\u001b[39mdict\u001b[39;49m(\u001b[39mself\u001b[39;49m\u001b[39m.\u001b[39;49mparams, \u001b[39m*\u001b[39;49m\u001b[39m*\u001b[39;49mkwargs))\n\u001b[1;32m    169\u001b[0m \u001b[39mexcept\u001b[39;00m:\n\u001b[1;32m    170\u001b[0m   \u001b[39m# Some transformations yield from inside context managers, so we have to\u001b[39;00m\n\u001b[1;32m    171\u001b[0m   \u001b[39m# interrupt them before reraising the exception. Otherwise they will only\u001b[39;00m\n\u001b[1;32m    172\u001b[0m   \u001b[39m# get garbage-collected at some later time, running their cleanup tasks\u001b[39;00m\n\u001b[1;32m    173\u001b[0m   \u001b[39m# only after this exception is handled, which can corrupt the global\u001b[39;00m\n\u001b[1;32m    174\u001b[0m   \u001b[39m# state.\u001b[39;00m\n\u001b[1;32m    175\u001b[0m   \u001b[39mwhile\u001b[39;00m stack:\n",
      "File \u001b[0;32m~/opt/anaconda3/envs/jax/lib/python3.10/site-packages/jax/_src/lax/control_flow/loops.py:313\u001b[0m, in \u001b[0;36m_scan_impl_loop.<locals>.body_fun\u001b[0;34m(vals)\u001b[0m\n\u001b[1;32m    311\u001b[0m i_ \u001b[39m=\u001b[39m length \u001b[39m-\u001b[39m i \u001b[39m-\u001b[39m \u001b[39m1\u001b[39m \u001b[39mif\u001b[39;00m reverse \u001b[39melse\u001b[39;00m i\n\u001b[1;32m    312\u001b[0m x \u001b[39m=\u001b[39m _map(partial(_dynamic_index_array, i_), x_avals, xs)\n\u001b[0;32m--> 313\u001b[0m out_flat \u001b[39m=\u001b[39m f_impl(\u001b[39m*\u001b[39;49mconsts, \u001b[39m*\u001b[39;49mcarry, \u001b[39m*\u001b[39;49mx)\n\u001b[1;32m    314\u001b[0m carry_out, y_updates \u001b[39m=\u001b[39m split_list(out_flat, [num_carry])\n\u001b[1;32m    315\u001b[0m ys_out \u001b[39m=\u001b[39m _map(partial(_update_array, i_), y_avals, ys, y_updates)\n",
      "File \u001b[0;32m~/opt/anaconda3/envs/jax/lib/python3.10/site-packages/jax/core.py:193\u001b[0m, in \u001b[0;36mjaxpr_as_fun\u001b[0;34m(closed_jaxpr, *args)\u001b[0m\n\u001b[1;32m    191\u001b[0m \u001b[39m@curry\u001b[39m\n\u001b[1;32m    192\u001b[0m \u001b[39mdef\u001b[39;00m \u001b[39mjaxpr_as_fun\u001b[39m(closed_jaxpr: ClosedJaxpr, \u001b[39m*\u001b[39margs):\n\u001b[0;32m--> 193\u001b[0m   \u001b[39mreturn\u001b[39;00m eval_jaxpr(closed_jaxpr\u001b[39m.\u001b[39;49mjaxpr, closed_jaxpr\u001b[39m.\u001b[39;49mconsts, \u001b[39m*\u001b[39;49margs)\n",
      "File \u001b[0;32m~/opt/anaconda3/envs/jax/lib/python3.10/site-packages/jax/core.py:390\u001b[0m, in \u001b[0;36meval_jaxpr\u001b[0;34m(jaxpr, consts, *args)\u001b[0m\n\u001b[1;32m    388\u001b[0m name_stack \u001b[39m=\u001b[39m source_info_util\u001b[39m.\u001b[39mcurrent_name_stack() \u001b[39m+\u001b[39m eqn\u001b[39m.\u001b[39msource_info\u001b[39m.\u001b[39mname_stack\n\u001b[1;32m    389\u001b[0m \u001b[39mwith\u001b[39;00m source_info_util\u001b[39m.\u001b[39muser_context(eqn\u001b[39m.\u001b[39msource_info\u001b[39m.\u001b[39mtraceback, name_stack\u001b[39m=\u001b[39mname_stack):\n\u001b[0;32m--> 390\u001b[0m   ans \u001b[39m=\u001b[39m eqn\u001b[39m.\u001b[39;49mprimitive\u001b[39m.\u001b[39;49mbind(\u001b[39m*\u001b[39;49msubfuns, \u001b[39m*\u001b[39;49m\u001b[39mmap\u001b[39;49m(read, eqn\u001b[39m.\u001b[39;49minvars), \u001b[39m*\u001b[39;49m\u001b[39m*\u001b[39;49mbind_params)\n\u001b[1;32m    391\u001b[0m \u001b[39mif\u001b[39;00m eqn\u001b[39m.\u001b[39mprimitive\u001b[39m.\u001b[39mmultiple_results:\n\u001b[1;32m    392\u001b[0m   \u001b[39mmap\u001b[39m(write, eqn\u001b[39m.\u001b[39moutvars, ans)\n",
      "File \u001b[0;32m~/opt/anaconda3/envs/jax/lib/python3.10/site-packages/jax/core.py:324\u001b[0m, in \u001b[0;36mPrimitive.bind\u001b[0;34m(self, *args, **params)\u001b[0m\n\u001b[1;32m    321\u001b[0m \u001b[39mdef\u001b[39;00m \u001b[39mbind\u001b[39m(\u001b[39mself\u001b[39m, \u001b[39m*\u001b[39margs, \u001b[39m*\u001b[39m\u001b[39m*\u001b[39mparams):\n\u001b[1;32m    322\u001b[0m   \u001b[39massert\u001b[39;00m (\u001b[39mnot\u001b[39;00m config\u001b[39m.\u001b[39mjax_enable_checks \u001b[39mor\u001b[39;00m\n\u001b[1;32m    323\u001b[0m           \u001b[39mall\u001b[39m(\u001b[39misinstance\u001b[39m(arg, Tracer) \u001b[39mor\u001b[39;00m valid_jaxtype(arg) \u001b[39mfor\u001b[39;00m arg \u001b[39min\u001b[39;00m args)), args\n\u001b[0;32m--> 324\u001b[0m   \u001b[39mreturn\u001b[39;00m \u001b[39mself\u001b[39;49m\u001b[39m.\u001b[39;49mbind_with_trace(find_top_trace(args), args, params)\n",
      "File \u001b[0;32m~/opt/anaconda3/envs/jax/lib/python3.10/site-packages/jax/core.py:327\u001b[0m, in \u001b[0;36mPrimitive.bind_with_trace\u001b[0;34m(self, trace, args, params)\u001b[0m\n\u001b[1;32m    326\u001b[0m \u001b[39mdef\u001b[39;00m \u001b[39mbind_with_trace\u001b[39m(\u001b[39mself\u001b[39m, trace, args, params):\n\u001b[0;32m--> 327\u001b[0m   out \u001b[39m=\u001b[39m trace\u001b[39m.\u001b[39;49mprocess_primitive(\u001b[39mself\u001b[39;49m, \u001b[39mmap\u001b[39;49m(trace\u001b[39m.\u001b[39;49mfull_raise, args), params)\n\u001b[1;32m    328\u001b[0m   \u001b[39mreturn\u001b[39;00m \u001b[39mmap\u001b[39m(full_lower, out) \u001b[39mif\u001b[39;00m \u001b[39mself\u001b[39m\u001b[39m.\u001b[39mmultiple_results \u001b[39melse\u001b[39;00m full_lower(out)\n",
      "File \u001b[0;32m~/opt/anaconda3/envs/jax/lib/python3.10/site-packages/jax/interpreters/partial_eval.py:1817\u001b[0m, in \u001b[0;36mDynamicJaxprTrace.process_primitive\u001b[0;34m(self, primitive, tracers, params)\u001b[0m\n\u001b[1;32m   1815\u001b[0m \u001b[39mif\u001b[39;00m primitive \u001b[39min\u001b[39;00m custom_staging_rules:\n\u001b[1;32m   1816\u001b[0m   \u001b[39mreturn\u001b[39;00m custom_staging_rules[primitive](\u001b[39mself\u001b[39m, \u001b[39m*\u001b[39mtracers, \u001b[39m*\u001b[39m\u001b[39m*\u001b[39mparams)\n\u001b[0;32m-> 1817\u001b[0m \u001b[39mreturn\u001b[39;00m \u001b[39mself\u001b[39;49m\u001b[39m.\u001b[39;49mdefault_process_primitive(primitive, tracers, params)\n",
      "File \u001b[0;32m~/opt/anaconda3/envs/jax/lib/python3.10/site-packages/jax/interpreters/partial_eval.py:1821\u001b[0m, in \u001b[0;36mDynamicJaxprTrace.default_process_primitive\u001b[0;34m(self, primitive, tracers, params)\u001b[0m\n\u001b[1;32m   1819\u001b[0m \u001b[39mdef\u001b[39;00m \u001b[39mdefault_process_primitive\u001b[39m(\u001b[39mself\u001b[39m, primitive, tracers, params):\n\u001b[1;32m   1820\u001b[0m   avals \u001b[39m=\u001b[39m [t\u001b[39m.\u001b[39maval \u001b[39mfor\u001b[39;00m t \u001b[39min\u001b[39;00m tracers]\n\u001b[0;32m-> 1821\u001b[0m   out_avals, effects \u001b[39m=\u001b[39m primitive\u001b[39m.\u001b[39;49mabstract_eval(\u001b[39m*\u001b[39;49mavals, \u001b[39m*\u001b[39;49m\u001b[39m*\u001b[39;49mparams)\n\u001b[1;32m   1822\u001b[0m   out_avals \u001b[39m=\u001b[39m [out_avals] \u001b[39mif\u001b[39;00m \u001b[39mnot\u001b[39;00m primitive\u001b[39m.\u001b[39mmultiple_results \u001b[39melse\u001b[39;00m out_avals\n\u001b[1;32m   1823\u001b[0m   source_info \u001b[39m=\u001b[39m source_info_util\u001b[39m.\u001b[39mcurrent()\n",
      "File \u001b[0;32m~/opt/anaconda3/envs/jax/lib/python3.10/site-packages/jax/core.py:360\u001b[0m, in \u001b[0;36m_effect_free_abstract_eval.<locals>.abstract_eval_\u001b[0;34m(*args, **kwargs)\u001b[0m\n\u001b[1;32m    359\u001b[0m \u001b[39mdef\u001b[39;00m \u001b[39mabstract_eval_\u001b[39m(\u001b[39m*\u001b[39margs, \u001b[39m*\u001b[39m\u001b[39m*\u001b[39mkwargs):\n\u001b[0;32m--> 360\u001b[0m   \u001b[39mreturn\u001b[39;00m abstract_eval(\u001b[39m*\u001b[39;49margs, \u001b[39m*\u001b[39;49m\u001b[39m*\u001b[39;49mkwargs), no_effects\n",
      "File \u001b[0;32m~/opt/anaconda3/envs/jax/lib/python3.10/site-packages/jax/_src/ad_util.py:45\u001b[0m, in \u001b[0;36madd_abstract\u001b[0;34m(xs, ys)\u001b[0m\n\u001b[1;32m     43\u001b[0m \u001b[39m@add_jaxvals_p\u001b[39m\u001b[39m.\u001b[39mdef_abstract_eval\n\u001b[1;32m     44\u001b[0m \u001b[39mdef\u001b[39;00m \u001b[39madd_abstract\u001b[39m(xs, ys):\n\u001b[0;32m---> 45\u001b[0m   \u001b[39mreturn\u001b[39;00m lattice_join(xs, ys)\n",
      "File \u001b[0;32m~/opt/anaconda3/envs/jax/lib/python3.10/site-packages/jax/core.py:1123\u001b[0m, in \u001b[0;36mlattice_join\u001b[0;34m(x, y)\u001b[0m\n\u001b[1;32m   1121\u001b[0m   \u001b[39mreturn\u001b[39;00m cast(AbstractValue, x)\n\u001b[1;32m   1122\u001b[0m \u001b[39melif\u001b[39;00m \u001b[39misinstance\u001b[39m(x, \u001b[39mtype\u001b[39m(y)):\n\u001b[0;32m-> 1123\u001b[0m   \u001b[39mreturn\u001b[39;00m y\u001b[39m.\u001b[39;49mjoin(x)\n\u001b[1;32m   1124\u001b[0m \u001b[39melif\u001b[39;00m \u001b[39misinstance\u001b[39m(y, \u001b[39mtype\u001b[39m(x)):\n\u001b[1;32m   1125\u001b[0m   \u001b[39mreturn\u001b[39;00m x\u001b[39m.\u001b[39mjoin(y)\n",
      "File \u001b[0;32m~/opt/anaconda3/envs/jax/lib/python3.10/site-packages/jax/core.py:1320\u001b[0m, in \u001b[0;36mShapedArray.join\u001b[0;34m(self, other)\u001b[0m\n\u001b[1;32m   1318\u001b[0m   weak_type \u001b[39m=\u001b[39m \u001b[39mself\u001b[39m\u001b[39m.\u001b[39mweak_type \u001b[39mand\u001b[39;00m other\u001b[39m.\u001b[39mweak_type\n\u001b[1;32m   1319\u001b[0m   named_shape \u001b[39m=\u001b[39m join_named_shapes(\u001b[39mself\u001b[39m\u001b[39m.\u001b[39mnamed_shape, other\u001b[39m.\u001b[39mnamed_shape)\n\u001b[0;32m-> 1320\u001b[0m   \u001b[39mreturn\u001b[39;00m \u001b[39mself\u001b[39;49m\u001b[39m.\u001b[39;49mupdate(weak_type\u001b[39m=\u001b[39;49mweak_type, named_shape\u001b[39m=\u001b[39;49mnamed_shape)\n\u001b[1;32m   1321\u001b[0m \u001b[39melif\u001b[39;00m \u001b[39mself\u001b[39m\u001b[39m.\u001b[39mdtype \u001b[39m==\u001b[39m other\u001b[39m.\u001b[39mdtype:\n\u001b[1;32m   1322\u001b[0m   \u001b[39mreturn\u001b[39;00m UnshapedArray(\u001b[39mself\u001b[39m\u001b[39m.\u001b[39mdtype)\n",
      "File \u001b[0;32m~/opt/anaconda3/envs/jax/lib/python3.10/site-packages/jax/core.py:1289\u001b[0m, in \u001b[0;36mShapedArray.update\u001b[0;34m(self, shape, dtype, weak_type, named_shape)\u001b[0m\n\u001b[1;32m   1287\u001b[0m \u001b[39mif\u001b[39;00m named_shape \u001b[39mis\u001b[39;00m \u001b[39mNone\u001b[39;00m:\n\u001b[1;32m   1288\u001b[0m   named_shape \u001b[39m=\u001b[39m \u001b[39mself\u001b[39m\u001b[39m.\u001b[39mnamed_shape\n\u001b[0;32m-> 1289\u001b[0m \u001b[39mreturn\u001b[39;00m ShapedArray(shape, dtype, weak_type, named_shape)\n",
      "File \u001b[0;32m~/opt/anaconda3/envs/jax/lib/python3.10/site-packages/jax/core.py:1276\u001b[0m, in \u001b[0;36mShapedArray.__init__\u001b[0;34m(self, shape, dtype, weak_type, named_shape)\u001b[0m\n\u001b[1;32m   1274\u001b[0m \u001b[39mdef\u001b[39;00m \u001b[39m__init__\u001b[39m(\u001b[39mself\u001b[39m, shape, dtype, weak_type\u001b[39m=\u001b[39m\u001b[39mFalse\u001b[39;00m, named_shape\u001b[39m=\u001b[39m\u001b[39mNone\u001b[39;00m):\n\u001b[1;32m   1275\u001b[0m   \u001b[39mself\u001b[39m\u001b[39m.\u001b[39mshape \u001b[39m=\u001b[39m canonicalize_shape(shape)\n\u001b[0;32m-> 1276\u001b[0m   \u001b[39mself\u001b[39m\u001b[39m.\u001b[39mdtype \u001b[39m=\u001b[39m _dtype_object(dtype)\n\u001b[1;32m   1277\u001b[0m   \u001b[39mself\u001b[39m\u001b[39m.\u001b[39mweak_type \u001b[39m=\u001b[39m weak_type\n\u001b[1;32m   1278\u001b[0m   \u001b[39mself\u001b[39m\u001b[39m.\u001b[39mnamed_shape \u001b[39m=\u001b[39m {} \u001b[39mif\u001b[39;00m named_shape \u001b[39mis\u001b[39;00m \u001b[39mNone\u001b[39;00m \u001b[39melse\u001b[39;00m \u001b[39mdict\u001b[39m(named_shape)\n",
      "File \u001b[0;32m~/opt/anaconda3/envs/jax/lib/python3.10/site-packages/jax/core.py:1201\u001b[0m, in \u001b[0;36m_dtype_object\u001b[0;34m(dtype)\u001b[0m\n\u001b[1;32m   1200\u001b[0m \u001b[39mdef\u001b[39;00m \u001b[39m_dtype_object\u001b[39m(dtype):\n\u001b[0;32m-> 1201\u001b[0m   \u001b[39mreturn\u001b[39;00m dtype \u001b[39mif\u001b[39;00m \u001b[39mtype\u001b[39;49m(dtype) \u001b[39min\u001b[39;00m custom_eltypes \u001b[39melse\u001b[39;00m np\u001b[39m.\u001b[39mdtype(dtype)\n",
      "\u001b[0;31mKeyboardInterrupt\u001b[0m: "
     ]
    }
   ],
   "source": [
    "\n",
    "# perform training now\n",
    "# Apply the transform jax.pmap on the train_step to parallelize it on XLA devices\n",
    "# While vmap vectorizes a function by adding a batch dimension to every primitive operation \n",
    "# in the function, pmap replicates the function and executes each replica \n",
    "# on its own XLA device in parallel.\n",
    "parallelized_train_step = pmap(train_step, axis_name=\"batch\")\n",
    "state, inference_state, history = train_and_evaluate(state, parallelized_train_step, validation_step)\n"
   ]
  },
  {
   "cell_type": "markdown",
   "metadata": {},
   "source": [
    "## Render the scene"
   ]
  },
  {
   "cell_type": "code",
   "execution_count": null,
   "metadata": {},
   "outputs": [],
   "source": [
    "@jit\n",
    "def get_renderings(rays):\n",
    "    model_fn = lambda x: inference_state.apply_fn(\n",
    "        {\"params\": inference_state.params}, x\n",
    "    )\n",
    "\n",
    "    ray_origins, ray_directions = rays\n",
    "    rgb, depth, acc, disparity, opacities = perform_volume_rendering(\n",
    "        model_fn, ray_origins, ray_directions\n",
    "    )\n",
    "    rgb = (255 * jnp.clip(rgb, 0, 1)).astype(jnp.uint8)\n",
    "    return rgb, depth, acc, disparity, opacities\n",
    "\n",
    "\n",
    "# Create a 360 degree video of the 3D scene\n",
    "def get_frames():\n",
    "    video_angle = jnp.linspace(0.0, 360.0, 120, endpoint=False)\n",
    "    camera_to_world_transform = map(lambda th: pose_spherical(th, -30.0, 4.0), video_angle)\n",
    "    rays = np.stack(list(map(\n",
    "        lambda x: generate_rays(\n",
    "            img_ht, img_wid, focal, x[:3, :4]\n",
    "        ), camera_to_world_transform\n",
    "    )))\n",
    "    rgb_frames, depth_frames, acc_maps, disparity_maps, opacities = lax.map(get_renderings, rays)\n",
    "    rgb_frames = np.asarray(rgb_frames)\n",
    "    depth_frames = np.asarray(depth_frames)\n",
    "    acc_maps = np.asarray(acc_maps * 255.)\n",
    "    disparity_maps = np.asarray(disparity_maps * 255.)\n",
    "    return rgb_frames, depth_frames, acc_maps, disparity_maps"
   ]
  },
  {
   "cell_type": "code",
   "execution_count": null,
   "metadata": {},
   "outputs": [],
   "source": [
    "# render the scene\n",
    "rgb_frames, depth_frames, acc_maps, disparity_maps = get_frames()"
   ]
  },
  {
   "cell_type": "markdown",
   "metadata": {},
   "source": [
    "## Export videos"
   ]
  },
  {
   "cell_type": "code",
   "execution_count": null,
   "metadata": {},
   "outputs": [],
   "source": [
    "# output videos\n",
    "imageio.mimwrite(\"rgb_video.mp4\", tuple(rgb_frames), fps=30, quality=7)\n",
    "imageio.mimwrite(\"depth_video.mp4\", tuple(depth_frames), fps=30, quality=7)\n",
    "imageio.mimwrite(\"acc_video.mp4\", tuple(acc_maps), fps=30, quality=7)\n",
    "imageio.mimwrite(\"disparity_video.mp4\", tuple(disparity_maps), fps=30, quality=7)"
   ]
  }
 ],
 "metadata": {
  "kernelspec": {
   "display_name": "Python 3.10.4 ('jax')",
   "language": "python",
   "name": "python3"
  },
  "language_info": {
   "codemirror_mode": {
    "name": "ipython",
    "version": 3
   },
   "file_extension": ".py",
   "mimetype": "text/x-python",
   "name": "python",
   "nbconvert_exporter": "python",
   "pygments_lexer": "ipython3",
   "version": "3.10.4"
  },
  "orig_nbformat": 4,
  "vscode": {
   "interpreter": {
    "hash": "73f72bc72549e98a84f6f70716c3cfd3763eb776afa04f85c632de90851415ed"
   }
  }
 },
 "nbformat": 4,
 "nbformat_minor": 2
}

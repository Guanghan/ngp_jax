{
 "cells": [
  {
   "cell_type": "markdown",
   "metadata": {},
   "source": [
    "## Test the installation of JAX"
   ]
  },
  {
   "cell_type": "code",
   "execution_count": 2,
   "metadata": {},
   "outputs": [
    {
     "name": "stdout",
     "output_type": "stream",
     "text": [
      "[-0.3721109   0.26423115 -0.18252768 -0.7368197  -0.44030377 -0.1521442\n",
      " -0.67135346 -0.5908641   0.73168886  0.5673026 ]\n"
     ]
    }
   ],
   "source": [
    "import jax.numpy as jnp\n",
    "from jax import grad, jit, vmap\n",
    "from jax import random\n",
    "key = random.PRNGKey(0)\n",
    "x = random.normal(key, (10,))\n",
    "print(x)"
   ]
  },
  {
   "cell_type": "markdown",
   "metadata": {},
   "source": [
    "## Try jax with simple matrix multiplication"
   ]
  },
  {
   "cell_type": "code",
   "execution_count": 3,
   "metadata": {},
   "outputs": [
    {
     "name": "stdout",
     "output_type": "stream",
     "text": [
      "275 ms ± 15.8 ms per loop (mean ± std. dev. of 7 runs, 1 loop each)\n"
     ]
    }
   ],
   "source": [
    "# multiple two matrices\n",
    "size = 3000\n",
    "x = random.normal(key, (size, size), dtype=jnp.float32)\n",
    "%timeit jnp.dot(x, x.T)"
   ]
  },
  {
   "cell_type": "code",
   "execution_count": 4,
   "metadata": {},
   "outputs": [
    {
     "name": "stdout",
     "output_type": "stream",
     "text": [
      "252 ms ± 5.86 ms per loop (mean ± std. dev. of 7 runs, 1 loop each)\n"
     ]
    }
   ],
   "source": [
    "# use regular NumPy arrays for the same computation\n",
    "import numpy as np\n",
    "x = np.random.normal(size=(size,size)).astype(np.float32)\n",
    "%timeit jnp.dot(x, x.T)"
   ]
  },
  {
   "cell_type": "markdown",
   "metadata": {},
   "source": [
    "## Use *jit()* to speed up functions in jax"
   ]
  },
  {
   "cell_type": "code",
   "execution_count": 5,
   "metadata": {},
   "outputs": [
    {
     "name": "stdout",
     "output_type": "stream",
     "text": [
      "4.8 ms ± 99.1 µs per loop (mean ± std. dev. of 7 runs, 100 loops each)\n"
     ]
    }
   ],
   "source": [
    "def selu(x, alpha=1.67, lmbda=1.05):\n",
    "    return lmbda * jnp.where(x > 0, x, alpha * jnp.exp(x) - alpha)\n",
    "\n",
    "# call selu function without jit decorator\n",
    "x = random.normal(key, (1000000,))\n",
    "%timeit selu(x)"
   ]
  },
  {
   "cell_type": "code",
   "execution_count": 6,
   "metadata": {},
   "outputs": [
    {
     "name": "stdout",
     "output_type": "stream",
     "text": [
      "515 µs ± 14.6 µs per loop (mean ± std. dev. of 7 runs, 1,000 loops each)\n"
     ]
    }
   ],
   "source": [
    "# make selu function jit\n",
    "selu_jit = jit(selu)\n",
    "%timeit selu_jit(x)"
   ]
  },
  {
   "cell_type": "code",
   "execution_count": 7,
   "metadata": {},
   "outputs": [
    {
     "name": "stdout",
     "output_type": "stream",
     "text": [
      "572 µs ± 32.6 µs per loop (mean ± std. dev. of 7 runs, 1,000 loops each)\n"
     ]
    }
   ],
   "source": [
    "# another way to use jit, use decorator in function\n",
    "@jit\n",
    "def selu_with_decorator(x, alpha=1.67, lmbda=1.05):\n",
    "    return lmbda * jnp.where(x>0, x, alpha * jnp.exp(x) - alpha)\n",
    "\n",
    "%timeit selu_with_decorator(x)"
   ]
  },
  {
   "cell_type": "markdown",
   "metadata": {},
   "source": [
    "## Use *grad()* to take derivatives"
   ]
  },
  {
   "cell_type": "code",
   "execution_count": 11,
   "metadata": {},
   "outputs": [
    {
     "name": "stdout",
     "output_type": "stream",
     "text": [
      "[0. 1. 2.]\n",
      "[0.25       0.19661197 0.10499357]\n",
      "-0.09085775\n"
     ]
    }
   ],
   "source": [
    "def sum_logistic(x):\n",
    "    return jnp.sum(1.0 / (1.0 + jnp.exp(-x)))\n",
    "\n",
    "x_small = jnp.arange(3.)\n",
    "print(x_small)\n",
    "\n",
    "# derivative of this function\n",
    "derivative_fn = grad(sum_logistic)\n",
    "print(derivative_fn(x_small))\n",
    "\n",
    "# take derivative of derivative\n",
    "derivative2_fn = jit(grad(derivative_fn))\n",
    "print(derivative2_fn(1.0))"
   ]
  },
  {
   "cell_type": "markdown",
   "metadata": {},
   "source": [
    "## Use *vmap()* for auto-vectorization"
   ]
  },
  {
   "cell_type": "code",
   "execution_count": 13,
   "metadata": {},
   "outputs": [
    {
     "name": "stdout",
     "output_type": "stream",
     "text": [
      "(1) Naively batched\n",
      "2.96 ms ± 57 µs per loop (mean ± std. dev. of 7 runs, 100 loops each)\n"
     ]
    }
   ],
   "source": [
    "# 3 ways to promote matrix-vector products into matrix-matrix products\n",
    "mat = random.normal(key, (150, 100))\n",
    "batched_x = random.normal(key, (10, 100))\n",
    "\n",
    "def apply_matrix(v):\n",
    "    return jnp.dot(mat, v)\n",
    "\n",
    "# (1). Naive \n",
    "def naive_batched_apply_matrix(v_batched):\n",
    "    return jnp.stack([apply_matrix(v) for v in v_batched])\n",
    "print('(1) Naively batched')\n",
    "%timeit naive_batched_apply_matrix(batched_x)"
   ]
  },
  {
   "cell_type": "code",
   "execution_count": 14,
   "metadata": {},
   "outputs": [
    {
     "name": "stdout",
     "output_type": "stream",
     "text": [
      "(2) Manually batched\n",
      "12.5 µs ± 78 ns per loop (mean ± std. dev. of 7 runs, 100,000 loops each)\n"
     ]
    }
   ],
   "source": [
    "# (2). Manually batched\n",
    "@jit\n",
    "def batched_apply_matrix(v_batched):\n",
    "    return jnp.dot(v_batched, mat.T)\n",
    "\n",
    "print('(2) Manually batched')\n",
    "%timeit batched_apply_matrix(batched_x)"
   ]
  },
  {
   "cell_type": "code",
   "execution_count": 15,
   "metadata": {},
   "outputs": [
    {
     "name": "stdout",
     "output_type": "stream",
     "text": [
      "(3) Auto-vectorize batched with vmap\n",
      "19.5 µs ± 179 ns per loop (mean ± std. dev. of 7 runs, 10,000 loops each)\n"
     ]
    }
   ],
   "source": [
    "# (3). Auto-vectorized with vmap\n",
    "@jit\n",
    "def vmap_batched_apply_matrix(v_batched):\n",
    "    return vmap(apply_matrix)(v_batched)\n",
    "\n",
    "print('(3) Auto-vectorize batched with vmap')\n",
    "%timeit vmap_batched_apply_matrix(batched_x)"
   ]
  },
  {
   "cell_type": "markdown",
   "metadata": {},
   "source": [
    "## JAX and Numpy"
   ]
  },
  {
   "cell_type": "code",
   "execution_count": 17,
   "metadata": {},
   "outputs": [
    {
     "data": {
      "text/plain": [
       "[<matplotlib.lines.Line2D at 0x7f8272af1ba0>]"
      ]
     },
     "execution_count": 17,
     "metadata": {},
     "output_type": "execute_result"
    },
    {
     "data": {
      "image/png": "[encoded data removed]",
      "text/plain": [
       "<Figure size 432x288 with 1 Axes>"
      ]
     },
     "metadata": {
      "needs_background": "light"
     },
     "output_type": "display_data"
    }
   ],
   "source": [
    "import matplotlib.pyplot as plt\n",
    "\n",
    "x_np = np.linspace(0, 10, 1000)\n",
    "y_np = 2 * np.sin(x_np) * np.cos(x_np)\n",
    "plt.plot(x_np, y_np)"
   ]
  },
  {
   "cell_type": "code",
   "execution_count": 21,
   "metadata": {},
   "outputs": [
    {
     "data": {
      "text/plain": [
       "[<matplotlib.lines.Line2D at 0x7f8273003250>]"
      ]
     },
     "execution_count": 21,
     "metadata": {},
     "output_type": "execute_result"
    },
    {
     "data": {
      "image/png": "[encoded data removed]",
      "text/plain": [
       "<Figure size 432x288 with 1 Axes>"
      ]
     },
     "metadata": {
      "needs_background": "light"
     },
     "output_type": "display_data"
    }
   ],
   "source": [
    "x_jnp = jnp.linspace(0, 10, 1000)\n",
    "y_jnp = 2 * jnp.sin(x_jnp) * jnp.cos(x_jnp)\n",
    "plt.plot(x_jnp, y_jnp)"
   ]
  },
  {
   "cell_type": "code",
   "execution_count": 22,
   "metadata": {},
   "outputs": [
    {
     "name": "stdout",
     "output_type": "stream",
     "text": [
      "[10  1  2  3  4  5  6  7  8  9]\n",
      "[0 1 2 3 4 5 6 7 8 9] [10  1  2  3  4  5  6  7  8  9]\n"
     ]
    }
   ],
   "source": [
    "# differences\n",
    "# (1) Numpy array is mutable but JAX array is not\n",
    "x = np.arange(10)\n",
    "x[0] = 10\n",
    "print(x)\n",
    "\n",
    "x = jnp.arange(10)\n",
    "y = x.at[0].set(10)\n",
    "print(x, y)"
   ]
  },
  {
   "cell_type": "markdown",
   "metadata": {},
   "source": [
    "## When to use *JIT* and when not to"
   ]
  },
  {
   "cell_type": "code",
   "execution_count": 28,
   "metadata": {},
   "outputs": [
    {
     "name": "stdout",
     "output_type": "stream",
     "text": [
      "True\n",
      "343 µs ± 29.4 µs per loop (mean ± std. dev. of 7 runs, 1,000 loops each)\n",
      "271 µs ± 30.9 µs per loop (mean ± std. dev. of 7 runs, 1,000 loops each)\n"
     ]
    }
   ],
   "source": [
    "def norm(X):\n",
    "    X = X - X.mean(0)\n",
    "    return X / X.std(0)\n",
    "\n",
    "norm_jit = jit(norm)\n",
    "\n",
    "np.random.seed(1701)\n",
    "X = jnp.array(np.random.rand(10000, 10))\n",
    "print(np.allclose(norm(X), norm_jit(X), atol=1E-6))\n",
    "\n",
    "%timeit norm(X)\n",
    "%timeit norm_jit(X)"
   ]
  },
  {
   "cell_type": "code",
   "execution_count": 33,
   "metadata": {},
   "outputs": [
    {
     "name": "stdout",
     "output_type": "stream",
     "text": [
      "[-0.16529104 -0.5616348  -0.02158209 -0.37602973 -0.82070136]\n"
     ]
    }
   ],
   "source": [
    "# JIT requires all arrays to have static shapes\n",
    "def get_negatives(x):\n",
    "    return x[x < 0]\n",
    "\n",
    "# the function above cannot be called in JIT mode\n",
    "x = jnp.array(np.random.randn(10))\n",
    "print(get_negatives(x))\n",
    "\n",
    "get_negatives_JIT = jit(get_negatives)\n",
    "#print(get_negatives_JIT(x))     # this call will return with error"
   ]
  },
  {
   "cell_type": "markdown",
   "metadata": {},
   "source": [
    "## JIT mechanics: *tracing* and *static variables*"
   ]
  },
  {
   "cell_type": "code",
   "execution_count": 39,
   "metadata": {},
   "outputs": [
    {
     "name": "stdout",
     "output_type": "stream",
     "text": [
      "[[ 0.61932998  0.83296526 -0.01022205  0.78267283]\n",
      " [-1.24735167  0.33722331 -0.07733002  1.03787083]\n",
      " [-1.36768645  0.10584496 -0.59179791  0.2473182 ]] [ 0.82241489 -1.42033257  2.09525327  0.06253995]\n",
      "Running f():\n",
      "    x = Traced<ShapedArray(float32[3,4])>with<DynamicJaxprTrace(level=0/1)>\n",
      "    y = Traced<ShapedArray(float32[4])>with<DynamicJaxprTrace(level=0/1)>\n",
      "    result = Traced<ShapedArray(float32[3])>with<DynamicJaxprTrace(level=0/1)>\n",
      "returned result: [7.1384106 4.008361  1.4539143]\n",
      "\n",
      "returned result: [-1.5073116   0.45682916 -0.09138716]\n",
      "\n",
      "Running f():\n",
      "    x = Traced<ShapedArray(float32[3,4])>with<DynamicJaxprTrace(level=1/1)>\n",
      "    y = Traced<ShapedArray(float32[4])>with<DynamicJaxprTrace(level=1/1)>\n",
      "    result = Traced<ShapedArray(float32[3])>with<DynamicJaxprTrace(level=1/1)>\n"
     ]
    },
    {
     "data": {
      "text/plain": [
       "{ lambda ; a:f32[3,4] b:f32[4]. let\n",
       "    c:f32[3] = xla_call[\n",
       "      call_jaxpr={ lambda ; d:f32[3,4] e:f32[4]. let\n",
       "          f:f32[3,4] = add d 1.0\n",
       "          g:f32[4] = add e 1.0\n",
       "          h:f32[3] = dot_general[\n",
       "            dimension_numbers=(((1,), (0,)), ((), ()))\n",
       "            precision=None\n",
       "            preferred_element_type=None\n",
       "          ] f g\n",
       "        in (h,) }\n",
       "      name=f\n",
       "    ] a b\n",
       "  in (c,) }"
      ]
     },
     "execution_count": 39,
     "metadata": {},
     "output_type": "execute_result"
    }
   ],
   "source": [
    "# Static operations are evaluated at compile-time in Python; \\\n",
    "# traced operations are compiled & evaluated at run-time in XLA.\n",
    "\n",
    "@jit\n",
    "def f(x, y):\n",
    "    print(\"Running f():\")\n",
    "    print(\"    x = {}\".format(x))\n",
    "    print(\"    y = {}\".format(y))\n",
    "    result = jnp.dot(x+1, y+1)\n",
    "    print(\"    result = {}\".format(result))\n",
    "    return result\n",
    "\n",
    "# The first time calling f(), compilation happens\n",
    "x = np.random.randn(3, 4)\n",
    "y = np.random.randn(4)\n",
    "print(x, y)\n",
    "print(\"returned result: {}\\n\".format(f(x, y)))\n",
    "\n",
    "# The second time calling f(), there won't be prints as is compiled already \n",
    "x2 = np.random.randn(3, 4)\n",
    "y2 = np.random.randn(4)\n",
    "print(\"returned result: {}\\n\".format(f(x2, y2)))\n",
    "\n",
    "# show the JAX expression\n",
    "from jax import make_jaxpr\n",
    "make_jaxpr(f)(x, y)"
   ]
  },
  {
   "cell_type": "code",
   "execution_count": 45,
   "metadata": {},
   "outputs": [
    {
     "data": {
      "text/plain": [
       "DeviceArray([ 0.61933   ,  0.83296525, -0.01022205,  0.7826728 ,\n",
       "             -1.2473516 ,  0.33722332, -0.07733002,  1.0378709 ,\n",
       "             -1.3676865 ,  0.10584496, -0.5917979 ,  0.2473182 ],            dtype=float32)"
      ]
     },
     "execution_count": 45,
     "metadata": {},
     "output_type": "execute_result"
    }
   ],
   "source": [
    "# A useful pattern is to use numpy for operations that \\\n",
    "# should be static (i.e. done at compile-time), \\\n",
    "# and use jax.numpy for operations that should be \\\n",
    "# traced (i.e. compiled and executed at run-time).\n",
    "\n",
    "# a standard convention in JAX programs is to \"import numpy as np\" \\\n",
    "# and \"import jax.numpy as jnp\" so that both interfaces are available\\\n",
    "#  for finer control over whether operations are performed \\\n",
    "# in a static matter (with numpy, once at compile-time) or \\\n",
    "# a traced manner (with jax.numpy, optimized at run-time).\n",
    "\n",
    "# e.g., this is wrong, shape is not static, cannot use jnp\n",
    "@jit\n",
    "def f(x):\n",
    "  return x.reshape(jnp.array(x.shape).prod())\n",
    "#f(x)\n",
    "\n",
    "# e.g., this is right, use np for non-static shape\n",
    "@jit\n",
    "def f(x):\n",
    "  return x.reshape((np.prod(x.shape),))\n",
    "f(x)\n"
   ]
  }
 ],
 "metadata": {
  "kernelspec": {
   "display_name": "Python 3.10.4 ('jax')",
   "language": "python",
   "name": "python3"
  },
  "language_info": {
   "codemirror_mode": {
    "name": "ipython",
    "version": 3
   },
   "file_extension": ".py",
   "mimetype": "text/x-python",
   "name": "python",
   "nbconvert_exporter": "python",
   "pygments_lexer": "ipython3",
   "version": "3.10.4"
  },
  "orig_nbformat": 4,
  "vscode": {
   "interpreter": {
    "hash": "73f72bc72549e98a84f6f70716c3cfd3763eb776afa04f85c632de90851415ed"
   }
  }
 },
 "nbformat": 4,
 "nbformat_minor": 2
}

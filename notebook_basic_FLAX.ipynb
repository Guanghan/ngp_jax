{
 "cells": [
  {
   "cell_type": "markdown",
   "metadata": {},
   "source": [
    "# Training a simple MLP with FLAX"
   ]
  },
  {
   "cell_type": "code",
   "execution_count": 2,
   "metadata": {},
   "outputs": [],
   "source": [
    "# install flax if haven't done so\n",
    "!pip install -q flax"
   ]
  },
  {
   "cell_type": "code",
   "execution_count": 9,
   "metadata": {},
   "outputs": [],
   "source": [
    "# a toy example using flax\n",
    "import numpy as np\n",
    "\n",
    "import jax\n",
    "import jax.numpy as jnp\n",
    "\n",
    "from flax import linen as nn\n",
    "from flax.training import train_state\n",
    "\n",
    "import optax # optimization library for JAX from deepmind"
   ]
  },
  {
   "cell_type": "code",
   "execution_count": 21,
   "metadata": {},
   "outputs": [
    {
     "name": "stdout",
     "output_type": "stream",
     "text": [
      "[0 0] [4146024105  967050713] [2718843009 1272950319] \n",
      "\n",
      "x: [-2.6105583   0.03385283  1.0863333  -1.4802988   0.48895672  1.062516\n",
      "  0.54174834  0.0170228   0.2722685   0.30522448]\n",
      "\n",
      "params: frozen_dict_keys(['params'])\n",
      "\n"
     ]
    },
    {
     "data": {
      "text/plain": [
       "FrozenDict({\n",
       "    params: {\n",
       "        bias: (5,),\n",
       "        kernel: (10, 5),\n",
       "    },\n",
       "})"
      ]
     },
     "execution_count": 21,
     "metadata": {},
     "output_type": "execute_result"
    }
   ],
   "source": [
    "# create a dense layer\n",
    "model = nn.Dense(features=5)\n",
    "\n",
    "# Psedo random number generation\n",
    "key = jax.random.PRNGKey(0)\n",
    "key1, key2 = jax.random.split(key)\n",
    "print(key, key1, key2, '\\n')\n",
    "\n",
    "# initialize input\n",
    "x = jax.random.normal(key1, (10,))\n",
    "params = model.init(key2, x)\n",
    "print(\"x: {}\\n\\nparams: {}\\n\".format(x, params.keys()))\n",
    "\n",
    "jax.tree_util.tree_map(lambda x: x.shape, params)"
   ]
  },
  {
   "cell_type": "code",
   "execution_count": 24,
   "metadata": {},
   "outputs": [],
   "source": [
    "y = model.apply(params, x)\n",
    "print(y)"
   ]
  }
 ],
 "metadata": {
  "kernelspec": {
   "display_name": "Python 3.10.4 ('jax')",
   "language": "python",
   "name": "python3"
  },
  "language_info": {
   "codemirror_mode": {
    "name": "ipython",
    "version": 3
   },
   "file_extension": ".py",
   "mimetype": "text/x-python",
   "name": "python",
   "nbconvert_exporter": "python",
   "pygments_lexer": "ipython3",
   "version": "3.10.4"
  },
  "orig_nbformat": 4,
  "vscode": {
   "interpreter": {
    "hash": "73f72bc72549e98a84f6f70716c3cfd3763eb776afa04f85c632de90851415ed"
   }
  }
 },
 "nbformat": 4,
 "nbformat_minor": 2
}
